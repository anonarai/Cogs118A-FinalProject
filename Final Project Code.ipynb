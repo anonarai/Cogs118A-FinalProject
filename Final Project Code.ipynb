{
 "cells": [
  {
   "cell_type": "code",
   "execution_count": 115,
   "metadata": {},
   "outputs": [],
   "source": [
    "import scipy.io as sio\n",
    "import matplotlib.pyplot as plt\n",
    "import numpy as np\n",
    "import scipy as sp\n",
    "import pandas as pd\n",
    "import seaborn as sns\n",
    "from sklearn import datasets\n",
    "from sklearn.preprocessing import StandardScaler, LabelEncoder\n",
    "from sklearn.tree import DecisionTreeClassifier\n",
    "from sklearn.neighbors import KNeighborsClassifier\n",
    "from sklearn.linear_model import LogisticRegression\n",
    "from sklearn.ensemble import RandomForestClassifier\n",
    "from sklearn.model_selection import GridSearchCV\n",
    "from sklearn.svm import LinearSVC #using linearSVC instead of SVC(kernel = 'linear') to improve runtime.\n",
    "%matplotlib inline\n",
    "%config InlineBackend.figure_format = 'retina'"
   ]
  },
  {
   "cell_type": "markdown",
   "metadata": {},
   "source": [
    "## Load Datasets"
   ]
  },
  {
   "cell_type": "markdown",
   "metadata": {},
   "source": [
    "### 1. Adult Dataset\n",
    "- Census data, used to predict if a person make over 50k a year\n",
    "- Includes attributes such as age, gender, race, employment etc.\n",
    "- http://archive.ics.uci.edu/ml/datasets/Adult\n",
    "- { <=50k = 0, >50k =1}"
   ]
  },
  {
   "cell_type": "code",
   "execution_count": 8,
   "metadata": {},
   "outputs": [
    {
     "name": "stderr",
     "output_type": "stream",
     "text": [
      "/Users/anonagupta/anaconda3/lib/python3.7/site-packages/sklearn/preprocessing/data.py:625: DataConversionWarning: Data with input dtype int64 were all converted to float64 by StandardScaler.\n",
      "  return self.partial_fit(X, y)\n",
      "/Users/anonagupta/anaconda3/lib/python3.7/site-packages/sklearn/base.py:462: DataConversionWarning: Data with input dtype int64 were all converted to float64 by StandardScaler.\n",
      "  return self.fit(X, **fit_params).transform(X)\n"
     ]
    },
    {
     "data": {
      "text/html": [
       "<div>\n",
       "<style scoped>\n",
       "    .dataframe tbody tr th:only-of-type {\n",
       "        vertical-align: middle;\n",
       "    }\n",
       "\n",
       "    .dataframe tbody tr th {\n",
       "        vertical-align: top;\n",
       "    }\n",
       "\n",
       "    .dataframe thead th {\n",
       "        text-align: right;\n",
       "    }\n",
       "</style>\n",
       "<table border=\"1\" class=\"dataframe\">\n",
       "  <thead>\n",
       "    <tr style=\"text-align: right;\">\n",
       "      <th></th>\n",
       "      <th>0</th>\n",
       "      <th>1</th>\n",
       "      <th>2</th>\n",
       "      <th>3</th>\n",
       "      <th>4</th>\n",
       "      <th>5</th>\n",
       "      <th>6</th>\n",
       "      <th>7</th>\n",
       "      <th>8</th>\n",
       "      <th>9</th>\n",
       "      <th>10</th>\n",
       "      <th>11</th>\n",
       "      <th>12</th>\n",
       "      <th>13</th>\n",
       "      <th>14</th>\n",
       "    </tr>\n",
       "  </thead>\n",
       "  <tbody>\n",
       "    <tr>\n",
       "      <th>0</th>\n",
       "      <td>0</td>\n",
       "      <td>2</td>\n",
       "      <td>-1</td>\n",
       "      <td>0</td>\n",
       "      <td>1</td>\n",
       "      <td>0</td>\n",
       "      <td>-1</td>\n",
       "      <td>0</td>\n",
       "      <td>0</td>\n",
       "      <td>0</td>\n",
       "      <td>0</td>\n",
       "      <td>0</td>\n",
       "      <td>0</td>\n",
       "      <td>0</td>\n",
       "      <td>0</td>\n",
       "    </tr>\n",
       "    <tr>\n",
       "      <th>1</th>\n",
       "      <td>0</td>\n",
       "      <td>1</td>\n",
       "      <td>-1</td>\n",
       "      <td>0</td>\n",
       "      <td>1</td>\n",
       "      <td>0</td>\n",
       "      <td>0</td>\n",
       "      <td>0</td>\n",
       "      <td>0</td>\n",
       "      <td>0</td>\n",
       "      <td>0</td>\n",
       "      <td>0</td>\n",
       "      <td>-2</td>\n",
       "      <td>0</td>\n",
       "      <td>0</td>\n",
       "    </tr>\n",
       "    <tr>\n",
       "      <th>2</th>\n",
       "      <td>0</td>\n",
       "      <td>0</td>\n",
       "      <td>0</td>\n",
       "      <td>0</td>\n",
       "      <td>0</td>\n",
       "      <td>-1</td>\n",
       "      <td>0</td>\n",
       "      <td>0</td>\n",
       "      <td>0</td>\n",
       "      <td>0</td>\n",
       "      <td>0</td>\n",
       "      <td>0</td>\n",
       "      <td>0</td>\n",
       "      <td>0</td>\n",
       "      <td>0</td>\n",
       "    </tr>\n",
       "    <tr>\n",
       "      <th>3</th>\n",
       "      <td>1</td>\n",
       "      <td>0</td>\n",
       "      <td>0</td>\n",
       "      <td>-2</td>\n",
       "      <td>-1</td>\n",
       "      <td>0</td>\n",
       "      <td>0</td>\n",
       "      <td>0</td>\n",
       "      <td>-1</td>\n",
       "      <td>0</td>\n",
       "      <td>0</td>\n",
       "      <td>0</td>\n",
       "      <td>0</td>\n",
       "      <td>0</td>\n",
       "      <td>0</td>\n",
       "    </tr>\n",
       "    <tr>\n",
       "      <th>4</th>\n",
       "      <td>0</td>\n",
       "      <td>0</td>\n",
       "      <td>1</td>\n",
       "      <td>0</td>\n",
       "      <td>1</td>\n",
       "      <td>0</td>\n",
       "      <td>0</td>\n",
       "      <td>2</td>\n",
       "      <td>-1</td>\n",
       "      <td>-1</td>\n",
       "      <td>0</td>\n",
       "      <td>0</td>\n",
       "      <td>0</td>\n",
       "      <td>-3</td>\n",
       "      <td>0</td>\n",
       "    </tr>\n",
       "    <tr>\n",
       "      <th>5</th>\n",
       "      <td>0</td>\n",
       "      <td>0</td>\n",
       "      <td>1</td>\n",
       "      <td>0</td>\n",
       "      <td>1</td>\n",
       "      <td>0</td>\n",
       "      <td>0</td>\n",
       "      <td>2</td>\n",
       "      <td>0</td>\n",
       "      <td>-1</td>\n",
       "      <td>0</td>\n",
       "      <td>0</td>\n",
       "      <td>0</td>\n",
       "      <td>0</td>\n",
       "      <td>0</td>\n",
       "    </tr>\n",
       "    <tr>\n",
       "      <th>6</th>\n",
       "      <td>0</td>\n",
       "      <td>0</td>\n",
       "      <td>0</td>\n",
       "      <td>-1</td>\n",
       "      <td>-2</td>\n",
       "      <td>0</td>\n",
       "      <td>0</td>\n",
       "      <td>0</td>\n",
       "      <td>-1</td>\n",
       "      <td>-1</td>\n",
       "      <td>0</td>\n",
       "      <td>0</td>\n",
       "      <td>-2</td>\n",
       "      <td>-1</td>\n",
       "      <td>0</td>\n",
       "    </tr>\n",
       "    <tr>\n",
       "      <th>7</th>\n",
       "      <td>0</td>\n",
       "      <td>1</td>\n",
       "      <td>0</td>\n",
       "      <td>0</td>\n",
       "      <td>0</td>\n",
       "      <td>0</td>\n",
       "      <td>0</td>\n",
       "      <td>0</td>\n",
       "      <td>0</td>\n",
       "      <td>0</td>\n",
       "      <td>0</td>\n",
       "      <td>0</td>\n",
       "      <td>0</td>\n",
       "      <td>0</td>\n",
       "      <td>1</td>\n",
       "    </tr>\n",
       "    <tr>\n",
       "      <th>8</th>\n",
       "      <td>0</td>\n",
       "      <td>0</td>\n",
       "      <td>-1</td>\n",
       "      <td>0</td>\n",
       "      <td>1</td>\n",
       "      <td>0</td>\n",
       "      <td>0</td>\n",
       "      <td>0</td>\n",
       "      <td>0</td>\n",
       "      <td>-1</td>\n",
       "      <td>4</td>\n",
       "      <td>0</td>\n",
       "      <td>0</td>\n",
       "      <td>0</td>\n",
       "      <td>1</td>\n",
       "    </tr>\n",
       "    <tr>\n",
       "      <th>9</th>\n",
       "      <td>0</td>\n",
       "      <td>0</td>\n",
       "      <td>0</td>\n",
       "      <td>0</td>\n",
       "      <td>1</td>\n",
       "      <td>0</td>\n",
       "      <td>0</td>\n",
       "      <td>0</td>\n",
       "      <td>0</td>\n",
       "      <td>0</td>\n",
       "      <td>3</td>\n",
       "      <td>0</td>\n",
       "      <td>0</td>\n",
       "      <td>0</td>\n",
       "      <td>1</td>\n",
       "    </tr>\n",
       "  </tbody>\n",
       "</table>\n",
       "</div>"
      ],
      "text/plain": [
       "   0   1   2   3   4   5   6   7   8   9   10  11  12  13  14\n",
       "0   0   2  -1   0   1   0  -1   0   0   0   0   0   0   0   0\n",
       "1   0   1  -1   0   1   0   0   0   0   0   0   0  -2   0   0\n",
       "2   0   0   0   0   0  -1   0   0   0   0   0   0   0   0   0\n",
       "3   1   0   0  -2  -1   0   0   0  -1   0   0   0   0   0   0\n",
       "4   0   0   1   0   1   0   0   2  -1  -1   0   0   0  -3   0\n",
       "5   0   0   1   0   1   0   0   2   0  -1   0   0   0   0   0\n",
       "6   0   0   0  -1  -2   0   0   0  -1  -1   0   0  -2  -1   0\n",
       "7   0   1   0   0   0   0   0   0   0   0   0   0   0   0   1\n",
       "8   0   0  -1   0   1   0   0   0   0  -1   4   0   0   0   1\n",
       "9   0   0   0   0   1   0   0   0   0   0   3   0   0   0   1"
      ]
     },
     "execution_count": 8,
     "metadata": {},
     "output_type": "execute_result"
    }
   ],
   "source": [
    "adult_df = pd.read_csv('adult.data', header=None, na_values=\"?\" )\n",
    "\n",
    "adult_df = adult_df.drop(adult_df[adult_df.isnull().any(axis=1)].index, axis=0) #dropping rows w/ null vals\n",
    "\n",
    "#label encoding to change categorical data, used link posted on Piazza as help\n",
    "encoder = LabelEncoder()\n",
    "adult_df = adult_df.apply(encoder.fit_transform)\n",
    "\n",
    "\n",
    "#5000 data points to assist with computation time)\n",
    "adult_df = adult_df.iloc[:5000]\n",
    "\n",
    "\n",
    "#normalizing data, used to improve SVM performanc, still not sure why it's poorer than others.\n",
    "scaler = StandardScaler()\n",
    "adult = pd.DataFrame((scaler.fit_transform(adult_df)).astype('int'), columns = adult_df.columns)\n",
    "\n",
    "adult.head(10)"
   ]
  },
  {
   "cell_type": "code",
   "execution_count": 9,
   "metadata": {},
   "outputs": [
    {
     "name": "stdout",
     "output_type": "stream",
     "text": [
      "(5000, 15)\n"
     ]
    }
   ],
   "source": [
    "print(adult.shape)"
   ]
  },
  {
   "cell_type": "markdown",
   "metadata": {},
   "source": [
    "### 2. Iris\n",
    "- The data set contains 3 classes of 50 instances each, where each class refers to a type of iris plant. One class is linearly separable from the other 2; the latter are NOT linearly separable from each other.\n",
    "- Problem is to predict type of iris based on features\n",
    "- http://archive.ics.uci.edu/ml/datasets/Iris"
   ]
  },
  {
   "cell_type": "code",
   "execution_count": 61,
   "metadata": {},
   "outputs": [
    {
     "name": "stdout",
     "output_type": "stream",
     "text": [
      "(150, 5)\n"
     ]
    }
   ],
   "source": [
    "#used from HW2\n",
    "\n",
    "iris = datasets.load_iris()\n",
    "df_iris = pd.DataFrame(iris.data, columns=['0', '1', '2', '3'])\n",
    "df_iris['target'] = iris.target.tolist()\n",
    "print(df_iris.shape)"
   ]
  },
  {
   "cell_type": "code",
   "execution_count": 62,
   "metadata": {},
   "outputs": [
    {
     "name": "stdout",
     "output_type": "stream",
     "text": [
      "(100, 5)\n"
     ]
    },
    {
     "data": {
      "text/html": [
       "<div>\n",
       "<style scoped>\n",
       "    .dataframe tbody tr th:only-of-type {\n",
       "        vertical-align: middle;\n",
       "    }\n",
       "\n",
       "    .dataframe tbody tr th {\n",
       "        vertical-align: top;\n",
       "    }\n",
       "\n",
       "    .dataframe thead th {\n",
       "        text-align: right;\n",
       "    }\n",
       "</style>\n",
       "<table border=\"1\" class=\"dataframe\">\n",
       "  <thead>\n",
       "    <tr style=\"text-align: right;\">\n",
       "      <th></th>\n",
       "      <th>0</th>\n",
       "      <th>1</th>\n",
       "      <th>2</th>\n",
       "      <th>3</th>\n",
       "      <th>target</th>\n",
       "    </tr>\n",
       "  </thead>\n",
       "  <tbody>\n",
       "    <tr>\n",
       "      <th>50</th>\n",
       "      <td>7.0</td>\n",
       "      <td>3.2</td>\n",
       "      <td>4.7</td>\n",
       "      <td>1.4</td>\n",
       "      <td>1</td>\n",
       "    </tr>\n",
       "    <tr>\n",
       "      <th>51</th>\n",
       "      <td>6.4</td>\n",
       "      <td>3.2</td>\n",
       "      <td>4.5</td>\n",
       "      <td>1.5</td>\n",
       "      <td>1</td>\n",
       "    </tr>\n",
       "    <tr>\n",
       "      <th>52</th>\n",
       "      <td>6.9</td>\n",
       "      <td>3.1</td>\n",
       "      <td>4.9</td>\n",
       "      <td>1.5</td>\n",
       "      <td>1</td>\n",
       "    </tr>\n",
       "    <tr>\n",
       "      <th>53</th>\n",
       "      <td>5.5</td>\n",
       "      <td>2.3</td>\n",
       "      <td>4.0</td>\n",
       "      <td>1.3</td>\n",
       "      <td>1</td>\n",
       "    </tr>\n",
       "    <tr>\n",
       "      <th>54</th>\n",
       "      <td>6.5</td>\n",
       "      <td>2.8</td>\n",
       "      <td>4.6</td>\n",
       "      <td>1.5</td>\n",
       "      <td>1</td>\n",
       "    </tr>\n",
       "  </tbody>\n",
       "</table>\n",
       "</div>"
      ],
      "text/plain": [
       "      0    1    2    3  target\n",
       "50  7.0  3.2  4.7  1.4       1\n",
       "51  6.4  3.2  4.5  1.5       1\n",
       "52  6.9  3.1  4.9  1.5       1\n",
       "53  5.5  2.3  4.0  1.3       1\n",
       "54  6.5  2.8  4.6  1.5       1"
      ]
     },
     "execution_count": 62,
     "metadata": {},
     "output_type": "execute_result"
    }
   ],
   "source": [
    "#getting nonseparable targets\n",
    "\n",
    "df_iris = df_iris[df_iris['target'] != 0]\n",
    "print(df_iris.shape)\n",
    "df_iris.head()"
   ]
  },
  {
   "cell_type": "markdown",
   "metadata": {},
   "source": [
    "### 3. Letter Recognition\n",
    "- http://archive.ics.uci.edu/ml/machine-learning-databases/letter-recognition/\n",
    "- Database of character image features; try to identify the letter\n",
    "- letters A-M will be positive, and N-Z negative, to make it more balanced, so problem will be to predict if A-M or if N-Z\n",
    "- Identify black-and-white rectangular pixel displays as one of the 26 capital letters in the alphabet. Character images were based on 20 different fonts and each letter was randomly distorted to produce 20,000 unique stimuli. Each stimulus was converted into 16 primitive numerical attributes which were scaled to fit values from 0 through 15."
   ]
  },
  {
   "cell_type": "code",
   "execution_count": 73,
   "metadata": {},
   "outputs": [
    {
     "name": "stderr",
     "output_type": "stream",
     "text": [
      "/Users/anonagupta/anaconda3/lib/python3.7/site-packages/sklearn/preprocessing/data.py:625: DataConversionWarning: Data with input dtype int64 were all converted to float64 by StandardScaler.\n",
      "  return self.partial_fit(X, y)\n",
      "/Users/anonagupta/anaconda3/lib/python3.7/site-packages/sklearn/base.py:462: DataConversionWarning: Data with input dtype int64 were all converted to float64 by StandardScaler.\n",
      "  return self.fit(X, **fit_params).transform(X)\n"
     ]
    },
    {
     "data": {
      "text/html": [
       "<div>\n",
       "<style scoped>\n",
       "    .dataframe tbody tr th:only-of-type {\n",
       "        vertical-align: middle;\n",
       "    }\n",
       "\n",
       "    .dataframe tbody tr th {\n",
       "        vertical-align: top;\n",
       "    }\n",
       "\n",
       "    .dataframe thead th {\n",
       "        text-align: right;\n",
       "    }\n",
       "</style>\n",
       "<table border=\"1\" class=\"dataframe\">\n",
       "  <thead>\n",
       "    <tr style=\"text-align: right;\">\n",
       "      <th></th>\n",
       "      <th>1</th>\n",
       "      <th>2</th>\n",
       "      <th>3</th>\n",
       "      <th>4</th>\n",
       "      <th>5</th>\n",
       "      <th>6</th>\n",
       "      <th>7</th>\n",
       "      <th>8</th>\n",
       "      <th>9</th>\n",
       "      <th>10</th>\n",
       "      <th>11</th>\n",
       "      <th>12</th>\n",
       "      <th>13</th>\n",
       "      <th>14</th>\n",
       "      <th>15</th>\n",
       "      <th>16</th>\n",
       "      <th>labels</th>\n",
       "    </tr>\n",
       "  </thead>\n",
       "  <tbody>\n",
       "    <tr>\n",
       "      <th>0</th>\n",
       "      <td>-1</td>\n",
       "      <td>0</td>\n",
       "      <td>-1</td>\n",
       "      <td>0</td>\n",
       "      <td>-1</td>\n",
       "      <td>0</td>\n",
       "      <td>2</td>\n",
       "      <td>-1</td>\n",
       "      <td>0</td>\n",
       "      <td>0</td>\n",
       "      <td>1</td>\n",
       "      <td>0</td>\n",
       "      <td>-1</td>\n",
       "      <td>0</td>\n",
       "      <td>-1</td>\n",
       "      <td>0</td>\n",
       "      <td>1</td>\n",
       "    </tr>\n",
       "    <tr>\n",
       "      <th>1</th>\n",
       "      <td>0</td>\n",
       "      <td>1</td>\n",
       "      <td>-1</td>\n",
       "      <td>0</td>\n",
       "      <td>0</td>\n",
       "      <td>1</td>\n",
       "      <td>-1</td>\n",
       "      <td>0</td>\n",
       "      <td>0</td>\n",
       "      <td>1</td>\n",
       "      <td>-1</td>\n",
       "      <td>0</td>\n",
       "      <td>0</td>\n",
       "      <td>0</td>\n",
       "      <td>0</td>\n",
       "      <td>1</td>\n",
       "      <td>0</td>\n",
       "    </tr>\n",
       "    <tr>\n",
       "      <th>2</th>\n",
       "      <td>0</td>\n",
       "      <td>1</td>\n",
       "      <td>0</td>\n",
       "      <td>1</td>\n",
       "      <td>1</td>\n",
       "      <td>1</td>\n",
       "      <td>0</td>\n",
       "      <td>0</td>\n",
       "      <td>0</td>\n",
       "      <td>0</td>\n",
       "      <td>-1</td>\n",
       "      <td>0</td>\n",
       "      <td>0</td>\n",
       "      <td>0</td>\n",
       "      <td>0</td>\n",
       "      <td>0</td>\n",
       "      <td>0</td>\n",
       "    </tr>\n",
       "    <tr>\n",
       "      <th>3</th>\n",
       "      <td>1</td>\n",
       "      <td>1</td>\n",
       "      <td>0</td>\n",
       "      <td>0</td>\n",
       "      <td>0</td>\n",
       "      <td>0</td>\n",
       "      <td>0</td>\n",
       "      <td>0</td>\n",
       "      <td>0</td>\n",
       "      <td>-1</td>\n",
       "      <td>0</td>\n",
       "      <td>0</td>\n",
       "      <td>1</td>\n",
       "      <td>1</td>\n",
       "      <td>0</td>\n",
       "      <td>0</td>\n",
       "      <td>1</td>\n",
       "    </tr>\n",
       "    <tr>\n",
       "      <th>4</th>\n",
       "      <td>-1</td>\n",
       "      <td>-1</td>\n",
       "      <td>-1</td>\n",
       "      <td>-1</td>\n",
       "      <td>-1</td>\n",
       "      <td>0</td>\n",
       "      <td>0</td>\n",
       "      <td>0</td>\n",
       "      <td>0</td>\n",
       "      <td>0</td>\n",
       "      <td>0</td>\n",
       "      <td>0</td>\n",
       "      <td>0</td>\n",
       "      <td>0</td>\n",
       "      <td>0</td>\n",
       "      <td>1</td>\n",
       "      <td>0</td>\n",
       "    </tr>\n",
       "    <tr>\n",
       "      <th>5</th>\n",
       "      <td>0</td>\n",
       "      <td>1</td>\n",
       "      <td>0</td>\n",
       "      <td>1</td>\n",
       "      <td>0</td>\n",
       "      <td>0</td>\n",
       "      <td>0</td>\n",
       "      <td>0</td>\n",
       "      <td>1</td>\n",
       "      <td>-1</td>\n",
       "      <td>0</td>\n",
       "      <td>0</td>\n",
       "      <td>-1</td>\n",
       "      <td>0</td>\n",
       "      <td>2</td>\n",
       "      <td>0</td>\n",
       "      <td>1</td>\n",
       "    </tr>\n",
       "    <tr>\n",
       "      <th>6</th>\n",
       "      <td>0</td>\n",
       "      <td>-1</td>\n",
       "      <td>0</td>\n",
       "      <td>0</td>\n",
       "      <td>0</td>\n",
       "      <td>0</td>\n",
       "      <td>0</td>\n",
       "      <td>0</td>\n",
       "      <td>0</td>\n",
       "      <td>0</td>\n",
       "      <td>0</td>\n",
       "      <td>0</td>\n",
       "      <td>0</td>\n",
       "      <td>0</td>\n",
       "      <td>1</td>\n",
       "      <td>1</td>\n",
       "      <td>0</td>\n",
       "    </tr>\n",
       "    <tr>\n",
       "      <th>7</th>\n",
       "      <td>-1</td>\n",
       "      <td>-1</td>\n",
       "      <td>-1</td>\n",
       "      <td>-1</td>\n",
       "      <td>-1</td>\n",
       "      <td>0</td>\n",
       "      <td>-2</td>\n",
       "      <td>0</td>\n",
       "      <td>-1</td>\n",
       "      <td>0</td>\n",
       "      <td>-1</td>\n",
       "      <td>0</td>\n",
       "      <td>0</td>\n",
       "      <td>-1</td>\n",
       "      <td>0</td>\n",
       "      <td>0</td>\n",
       "      <td>0</td>\n",
       "    </tr>\n",
       "    <tr>\n",
       "      <th>8</th>\n",
       "      <td>-1</td>\n",
       "      <td>-1</td>\n",
       "      <td>0</td>\n",
       "      <td>0</td>\n",
       "      <td>0</td>\n",
       "      <td>1</td>\n",
       "      <td>0</td>\n",
       "      <td>0</td>\n",
       "      <td>0</td>\n",
       "      <td>1</td>\n",
       "      <td>0</td>\n",
       "      <td>0</td>\n",
       "      <td>0</td>\n",
       "      <td>-1</td>\n",
       "      <td>-1</td>\n",
       "      <td>0</td>\n",
       "      <td>0</td>\n",
       "    </tr>\n",
       "    <tr>\n",
       "      <th>9</th>\n",
       "      <td>3</td>\n",
       "      <td>2</td>\n",
       "      <td>3</td>\n",
       "      <td>1</td>\n",
       "      <td>1</td>\n",
       "      <td>3</td>\n",
       "      <td>-2</td>\n",
       "      <td>0</td>\n",
       "      <td>-1</td>\n",
       "      <td>1</td>\n",
       "      <td>-2</td>\n",
       "      <td>0</td>\n",
       "      <td>2</td>\n",
       "      <td>-4</td>\n",
       "      <td>-1</td>\n",
       "      <td>0</td>\n",
       "      <td>1</td>\n",
       "    </tr>\n",
       "  </tbody>\n",
       "</table>\n",
       "</div>"
      ],
      "text/plain": [
       "   1  2  3  4  5  6  7  8  9  10  11  12  13  14  15  16  labels\n",
       "0 -1  0 -1  0 -1  0  2 -1  0   0   1   0  -1   0  -1   0       1\n",
       "1  0  1 -1  0  0  1 -1  0  0   1  -1   0   0   0   0   1       0\n",
       "2  0  1  0  1  1  1  0  0  0   0  -1   0   0   0   0   0       0\n",
       "3  1  1  0  0  0  0  0  0  0  -1   0   0   1   1   0   0       1\n",
       "4 -1 -1 -1 -1 -1  0  0  0  0   0   0   0   0   0   0   1       0\n",
       "5  0  1  0  1  0  0  0  0  1  -1   0   0  -1   0   2   0       1\n",
       "6  0 -1  0  0  0  0  0  0  0   0   0   0   0   0   1   1       0\n",
       "7 -1 -1 -1 -1 -1  0 -2  0 -1   0  -1   0   0  -1   0   0       0\n",
       "8 -1 -1  0  0  0  1  0  0  0   1   0   0   0  -1  -1   0       0\n",
       "9  3  2  3  1  1  3 -2  0 -1   1  -2   0   2  -4  -1   0       1"
      ]
     },
     "execution_count": 73,
     "metadata": {},
     "output_type": "execute_result"
    }
   ],
   "source": [
    "letter_df = pd.read_csv('letter-recognition.data', header=None, na_values=\"?\" )\n",
    "\n",
    "letter_df = letter_df.drop(letter_df[letter_df.isnull().any(axis=1)].index, axis=0) #dropping rows w/ null vals\n",
    "\n",
    "letter_df['labels'] = [ord(x)%32 for x in letter_df[0]] #converting Letters to Ints 1 - 27\n",
    "\n",
    "letter_df['labels'] = np.where(letter_df['labels']>=13, 1, 0) # making binary labels for classification\n",
    "\n",
    "letter_df = letter_df.drop(letter_df.columns[0], axis = 1)\n",
    "\n",
    "\n",
    "labels = letter_df['labels'] #store the y labels row since we don't want to normalize those\n",
    "\n",
    "\n",
    "scaler = StandardScaler()\n",
    "#adult = (scaler.fit_transform(adult_df)).astype('int')\n",
    "letter = pd.DataFrame((scaler.fit_transform(letter_df)).astype('int'), columns = letter_df.columns)\n",
    "\n",
    "letter['labels'] = labels\n",
    "\n",
    "#5000 data points(to assist with computation time)\n",
    "letter = letter.iloc[:5000]\n",
    "\n",
    "\n",
    "\n",
    "letter.head(10)"
   ]
  },
  {
   "cell_type": "code",
   "execution_count": 40,
   "metadata": {},
   "outputs": [
    {
     "data": {
      "text/plain": [
       "(5000, 17)"
      ]
     },
     "execution_count": 40,
     "metadata": {},
     "output_type": "execute_result"
    }
   ],
   "source": [
    "letter.shape"
   ]
  },
  {
   "cell_type": "markdown",
   "metadata": {},
   "source": [
    "### 4. Mushroom\n",
    "- http://archive.ics.uci.edu/ml/machine-learning-databases/mushroom/\n",
    "- mushrooms described in terms of physical characteristics such as shape and color\n",
    "- Problem is to predit if given mushroom is poisonous or edible\n",
    "- col 0 is labels, p = posion, e = edible\n",
    "- convert to p = 1, e = 0"
   ]
  },
  {
   "cell_type": "code",
   "execution_count": 41,
   "metadata": {},
   "outputs": [
    {
     "data": {
      "text/html": [
       "<div>\n",
       "<style scoped>\n",
       "    .dataframe tbody tr th:only-of-type {\n",
       "        vertical-align: middle;\n",
       "    }\n",
       "\n",
       "    .dataframe tbody tr th {\n",
       "        vertical-align: top;\n",
       "    }\n",
       "\n",
       "    .dataframe thead th {\n",
       "        text-align: right;\n",
       "    }\n",
       "</style>\n",
       "<table border=\"1\" class=\"dataframe\">\n",
       "  <thead>\n",
       "    <tr style=\"text-align: right;\">\n",
       "      <th></th>\n",
       "      <th>1</th>\n",
       "      <th>2</th>\n",
       "      <th>3</th>\n",
       "      <th>4</th>\n",
       "      <th>5</th>\n",
       "      <th>6</th>\n",
       "      <th>7</th>\n",
       "      <th>8</th>\n",
       "      <th>9</th>\n",
       "      <th>10</th>\n",
       "      <th>...</th>\n",
       "      <th>14</th>\n",
       "      <th>15</th>\n",
       "      <th>16</th>\n",
       "      <th>17</th>\n",
       "      <th>18</th>\n",
       "      <th>19</th>\n",
       "      <th>20</th>\n",
       "      <th>21</th>\n",
       "      <th>22</th>\n",
       "      <th>labels</th>\n",
       "    </tr>\n",
       "  </thead>\n",
       "  <tbody>\n",
       "    <tr>\n",
       "      <th>0</th>\n",
       "      <td>5</td>\n",
       "      <td>2</td>\n",
       "      <td>4</td>\n",
       "      <td>1</td>\n",
       "      <td>6</td>\n",
       "      <td>1</td>\n",
       "      <td>0</td>\n",
       "      <td>1</td>\n",
       "      <td>2</td>\n",
       "      <td>0</td>\n",
       "      <td>...</td>\n",
       "      <td>5</td>\n",
       "      <td>5</td>\n",
       "      <td>0</td>\n",
       "      <td>0</td>\n",
       "      <td>1</td>\n",
       "      <td>3</td>\n",
       "      <td>1</td>\n",
       "      <td>3</td>\n",
       "      <td>5</td>\n",
       "      <td>1</td>\n",
       "    </tr>\n",
       "    <tr>\n",
       "      <th>1</th>\n",
       "      <td>5</td>\n",
       "      <td>2</td>\n",
       "      <td>7</td>\n",
       "      <td>1</td>\n",
       "      <td>0</td>\n",
       "      <td>1</td>\n",
       "      <td>0</td>\n",
       "      <td>0</td>\n",
       "      <td>2</td>\n",
       "      <td>0</td>\n",
       "      <td>...</td>\n",
       "      <td>5</td>\n",
       "      <td>5</td>\n",
       "      <td>0</td>\n",
       "      <td>0</td>\n",
       "      <td>1</td>\n",
       "      <td>3</td>\n",
       "      <td>2</td>\n",
       "      <td>2</td>\n",
       "      <td>1</td>\n",
       "      <td>0</td>\n",
       "    </tr>\n",
       "    <tr>\n",
       "      <th>2</th>\n",
       "      <td>0</td>\n",
       "      <td>2</td>\n",
       "      <td>6</td>\n",
       "      <td>1</td>\n",
       "      <td>3</td>\n",
       "      <td>1</td>\n",
       "      <td>0</td>\n",
       "      <td>0</td>\n",
       "      <td>3</td>\n",
       "      <td>0</td>\n",
       "      <td>...</td>\n",
       "      <td>5</td>\n",
       "      <td>5</td>\n",
       "      <td>0</td>\n",
       "      <td>0</td>\n",
       "      <td>1</td>\n",
       "      <td>3</td>\n",
       "      <td>2</td>\n",
       "      <td>2</td>\n",
       "      <td>3</td>\n",
       "      <td>0</td>\n",
       "    </tr>\n",
       "    <tr>\n",
       "      <th>3</th>\n",
       "      <td>5</td>\n",
       "      <td>3</td>\n",
       "      <td>6</td>\n",
       "      <td>1</td>\n",
       "      <td>6</td>\n",
       "      <td>1</td>\n",
       "      <td>0</td>\n",
       "      <td>1</td>\n",
       "      <td>3</td>\n",
       "      <td>0</td>\n",
       "      <td>...</td>\n",
       "      <td>5</td>\n",
       "      <td>5</td>\n",
       "      <td>0</td>\n",
       "      <td>0</td>\n",
       "      <td>1</td>\n",
       "      <td>3</td>\n",
       "      <td>1</td>\n",
       "      <td>3</td>\n",
       "      <td>5</td>\n",
       "      <td>1</td>\n",
       "    </tr>\n",
       "    <tr>\n",
       "      <th>4</th>\n",
       "      <td>5</td>\n",
       "      <td>2</td>\n",
       "      <td>3</td>\n",
       "      <td>0</td>\n",
       "      <td>5</td>\n",
       "      <td>1</td>\n",
       "      <td>1</td>\n",
       "      <td>0</td>\n",
       "      <td>2</td>\n",
       "      <td>1</td>\n",
       "      <td>...</td>\n",
       "      <td>5</td>\n",
       "      <td>5</td>\n",
       "      <td>0</td>\n",
       "      <td>0</td>\n",
       "      <td>1</td>\n",
       "      <td>0</td>\n",
       "      <td>2</td>\n",
       "      <td>0</td>\n",
       "      <td>1</td>\n",
       "      <td>0</td>\n",
       "    </tr>\n",
       "    <tr>\n",
       "      <th>5</th>\n",
       "      <td>5</td>\n",
       "      <td>3</td>\n",
       "      <td>7</td>\n",
       "      <td>1</td>\n",
       "      <td>0</td>\n",
       "      <td>1</td>\n",
       "      <td>0</td>\n",
       "      <td>0</td>\n",
       "      <td>3</td>\n",
       "      <td>0</td>\n",
       "      <td>...</td>\n",
       "      <td>5</td>\n",
       "      <td>5</td>\n",
       "      <td>0</td>\n",
       "      <td>0</td>\n",
       "      <td>1</td>\n",
       "      <td>3</td>\n",
       "      <td>1</td>\n",
       "      <td>2</td>\n",
       "      <td>1</td>\n",
       "      <td>0</td>\n",
       "    </tr>\n",
       "    <tr>\n",
       "      <th>6</th>\n",
       "      <td>0</td>\n",
       "      <td>2</td>\n",
       "      <td>6</td>\n",
       "      <td>1</td>\n",
       "      <td>0</td>\n",
       "      <td>1</td>\n",
       "      <td>0</td>\n",
       "      <td>0</td>\n",
       "      <td>0</td>\n",
       "      <td>0</td>\n",
       "      <td>...</td>\n",
       "      <td>5</td>\n",
       "      <td>5</td>\n",
       "      <td>0</td>\n",
       "      <td>0</td>\n",
       "      <td>1</td>\n",
       "      <td>3</td>\n",
       "      <td>1</td>\n",
       "      <td>2</td>\n",
       "      <td>3</td>\n",
       "      <td>0</td>\n",
       "    </tr>\n",
       "    <tr>\n",
       "      <th>7</th>\n",
       "      <td>0</td>\n",
       "      <td>3</td>\n",
       "      <td>6</td>\n",
       "      <td>1</td>\n",
       "      <td>3</td>\n",
       "      <td>1</td>\n",
       "      <td>0</td>\n",
       "      <td>0</td>\n",
       "      <td>3</td>\n",
       "      <td>0</td>\n",
       "      <td>...</td>\n",
       "      <td>5</td>\n",
       "      <td>5</td>\n",
       "      <td>0</td>\n",
       "      <td>0</td>\n",
       "      <td>1</td>\n",
       "      <td>3</td>\n",
       "      <td>2</td>\n",
       "      <td>3</td>\n",
       "      <td>3</td>\n",
       "      <td>0</td>\n",
       "    </tr>\n",
       "    <tr>\n",
       "      <th>8</th>\n",
       "      <td>5</td>\n",
       "      <td>3</td>\n",
       "      <td>6</td>\n",
       "      <td>1</td>\n",
       "      <td>6</td>\n",
       "      <td>1</td>\n",
       "      <td>0</td>\n",
       "      <td>1</td>\n",
       "      <td>4</td>\n",
       "      <td>0</td>\n",
       "      <td>...</td>\n",
       "      <td>5</td>\n",
       "      <td>5</td>\n",
       "      <td>0</td>\n",
       "      <td>0</td>\n",
       "      <td>1</td>\n",
       "      <td>3</td>\n",
       "      <td>1</td>\n",
       "      <td>4</td>\n",
       "      <td>1</td>\n",
       "      <td>1</td>\n",
       "    </tr>\n",
       "    <tr>\n",
       "      <th>9</th>\n",
       "      <td>0</td>\n",
       "      <td>2</td>\n",
       "      <td>7</td>\n",
       "      <td>1</td>\n",
       "      <td>0</td>\n",
       "      <td>1</td>\n",
       "      <td>0</td>\n",
       "      <td>0</td>\n",
       "      <td>0</td>\n",
       "      <td>0</td>\n",
       "      <td>...</td>\n",
       "      <td>5</td>\n",
       "      <td>5</td>\n",
       "      <td>0</td>\n",
       "      <td>0</td>\n",
       "      <td>1</td>\n",
       "      <td>3</td>\n",
       "      <td>1</td>\n",
       "      <td>3</td>\n",
       "      <td>3</td>\n",
       "      <td>0</td>\n",
       "    </tr>\n",
       "  </tbody>\n",
       "</table>\n",
       "<p>10 rows × 23 columns</p>\n",
       "</div>"
      ],
      "text/plain": [
       "   1  2  3  4  5  6  7  8  9  10   ...    14  15  16  17  18  19  20  21  22  \\\n",
       "0  5  2  4  1  6  1  0  1  2   0   ...     5   5   0   0   1   3   1   3   5   \n",
       "1  5  2  7  1  0  1  0  0  2   0   ...     5   5   0   0   1   3   2   2   1   \n",
       "2  0  2  6  1  3  1  0  0  3   0   ...     5   5   0   0   1   3   2   2   3   \n",
       "3  5  3  6  1  6  1  0  1  3   0   ...     5   5   0   0   1   3   1   3   5   \n",
       "4  5  2  3  0  5  1  1  0  2   1   ...     5   5   0   0   1   0   2   0   1   \n",
       "5  5  3  7  1  0  1  0  0  3   0   ...     5   5   0   0   1   3   1   2   1   \n",
       "6  0  2  6  1  0  1  0  0  0   0   ...     5   5   0   0   1   3   1   2   3   \n",
       "7  0  3  6  1  3  1  0  0  3   0   ...     5   5   0   0   1   3   2   3   3   \n",
       "8  5  3  6  1  6  1  0  1  4   0   ...     5   5   0   0   1   3   1   4   1   \n",
       "9  0  2  7  1  0  1  0  0  0   0   ...     5   5   0   0   1   3   1   3   3   \n",
       "\n",
       "   labels  \n",
       "0       1  \n",
       "1       0  \n",
       "2       0  \n",
       "3       1  \n",
       "4       0  \n",
       "5       0  \n",
       "6       0  \n",
       "7       0  \n",
       "8       1  \n",
       "9       0  \n",
       "\n",
       "[10 rows x 23 columns]"
      ]
     },
     "execution_count": 41,
     "metadata": {},
     "output_type": "execute_result"
    }
   ],
   "source": [
    "mush_df = pd.read_csv('agaricus-lepiota.data', header=None, na_values=\"?\" )\n",
    "\n",
    "mush_df['labels'] = mush_df[0] #storing labels bc they were being encoded strangely by LabelEncoder\n",
    "\n",
    "mush_df = mush_df.drop(mush_df.columns[0], axis = 1)\n",
    "\n",
    "mush_df = mush_df.drop(mush_df[mush_df.isnull().any(axis=1)].index, axis=0) #dropping rows w/ null vals\n",
    "\n",
    "#mush_df.dtypes, checking datatypes\n",
    "\n",
    "encoder = LabelEncoder() #encoding data\n",
    "mush = mush_df.apply(encoder.fit_transform)\n",
    "\n",
    "mush = mush.iloc[:5000]\n",
    "\n",
    "mush.head(10)"
   ]
  },
  {
   "cell_type": "markdown",
   "metadata": {},
   "source": [
    "### 5. Parkinson's\n",
    "- Original dataset used voice measurements to discriminate between healhy patients and those with Parkinson's.\n",
    "- Predict according to \"status\" column which is set to 0 for healthy and 1 for PD.\n",
    "- The name col will be dropped"
   ]
  },
  {
   "cell_type": "code",
   "execution_count": 42,
   "metadata": {},
   "outputs": [
    {
     "name": "stderr",
     "output_type": "stream",
     "text": [
      "/Users/anonagupta/anaconda3/lib/python3.7/site-packages/sklearn/preprocessing/data.py:625: DataConversionWarning: Data with input dtype int64, float64 were all converted to float64 by StandardScaler.\n",
      "  return self.partial_fit(X, y)\n",
      "/Users/anonagupta/anaconda3/lib/python3.7/site-packages/sklearn/base.py:462: DataConversionWarning: Data with input dtype int64, float64 were all converted to float64 by StandardScaler.\n",
      "  return self.fit(X, **fit_params).transform(X)\n"
     ]
    },
    {
     "data": {
      "text/html": [
       "<div>\n",
       "<style scoped>\n",
       "    .dataframe tbody tr th:only-of-type {\n",
       "        vertical-align: middle;\n",
       "    }\n",
       "\n",
       "    .dataframe tbody tr th {\n",
       "        vertical-align: top;\n",
       "    }\n",
       "\n",
       "    .dataframe thead th {\n",
       "        text-align: right;\n",
       "    }\n",
       "</style>\n",
       "<table border=\"1\" class=\"dataframe\">\n",
       "  <thead>\n",
       "    <tr style=\"text-align: right;\">\n",
       "      <th></th>\n",
       "      <th>MDVP:Fo(Hz)</th>\n",
       "      <th>MDVP:Fhi(Hz)</th>\n",
       "      <th>MDVP:Flo(Hz)</th>\n",
       "      <th>MDVP:Jitter(%)</th>\n",
       "      <th>MDVP:Jitter(Abs)</th>\n",
       "      <th>MDVP:RAP</th>\n",
       "      <th>MDVP:PPQ</th>\n",
       "      <th>Jitter:DDP</th>\n",
       "      <th>MDVP:Shimmer</th>\n",
       "      <th>MDVP:Shimmer(dB)</th>\n",
       "      <th>...</th>\n",
       "      <th>Shimmer:DDA</th>\n",
       "      <th>NHR</th>\n",
       "      <th>HNR</th>\n",
       "      <th>RPDE</th>\n",
       "      <th>DFA</th>\n",
       "      <th>spread1</th>\n",
       "      <th>spread2</th>\n",
       "      <th>D2</th>\n",
       "      <th>PPE</th>\n",
       "      <th>labels</th>\n",
       "    </tr>\n",
       "  </thead>\n",
       "  <tbody>\n",
       "    <tr>\n",
       "      <th>0</th>\n",
       "      <td>0</td>\n",
       "      <td>0</td>\n",
       "      <td>0</td>\n",
       "      <td>0</td>\n",
       "      <td>0</td>\n",
       "      <td>0</td>\n",
       "      <td>0</td>\n",
       "      <td>0</td>\n",
       "      <td>0</td>\n",
       "      <td>0</td>\n",
       "      <td>...</td>\n",
       "      <td>0</td>\n",
       "      <td>0</td>\n",
       "      <td>0</td>\n",
       "      <td>0</td>\n",
       "      <td>1</td>\n",
       "      <td>0</td>\n",
       "      <td>0</td>\n",
       "      <td>0</td>\n",
       "      <td>0</td>\n",
       "      <td>0</td>\n",
       "    </tr>\n",
       "    <tr>\n",
       "      <th>1</th>\n",
       "      <td>0</td>\n",
       "      <td>0</td>\n",
       "      <td>0</td>\n",
       "      <td>0</td>\n",
       "      <td>1</td>\n",
       "      <td>0</td>\n",
       "      <td>1</td>\n",
       "      <td>0</td>\n",
       "      <td>1</td>\n",
       "      <td>1</td>\n",
       "      <td>...</td>\n",
       "      <td>1</td>\n",
       "      <td>0</td>\n",
       "      <td>0</td>\n",
       "      <td>0</td>\n",
       "      <td>1</td>\n",
       "      <td>1</td>\n",
       "      <td>1</td>\n",
       "      <td>0</td>\n",
       "      <td>1</td>\n",
       "      <td>0</td>\n",
       "    </tr>\n",
       "    <tr>\n",
       "      <th>2</th>\n",
       "      <td>0</td>\n",
       "      <td>0</td>\n",
       "      <td>0</td>\n",
       "      <td>0</td>\n",
       "      <td>1</td>\n",
       "      <td>0</td>\n",
       "      <td>1</td>\n",
       "      <td>0</td>\n",
       "      <td>1</td>\n",
       "      <td>1</td>\n",
       "      <td>...</td>\n",
       "      <td>1</td>\n",
       "      <td>0</td>\n",
       "      <td>0</td>\n",
       "      <td>0</td>\n",
       "      <td>1</td>\n",
       "      <td>1</td>\n",
       "      <td>1</td>\n",
       "      <td>0</td>\n",
       "      <td>1</td>\n",
       "      <td>0</td>\n",
       "    </tr>\n",
       "    <tr>\n",
       "      <th>3</th>\n",
       "      <td>0</td>\n",
       "      <td>0</td>\n",
       "      <td>0</td>\n",
       "      <td>0</td>\n",
       "      <td>1</td>\n",
       "      <td>0</td>\n",
       "      <td>1</td>\n",
       "      <td>0</td>\n",
       "      <td>1</td>\n",
       "      <td>1</td>\n",
       "      <td>...</td>\n",
       "      <td>1</td>\n",
       "      <td>0</td>\n",
       "      <td>0</td>\n",
       "      <td>0</td>\n",
       "      <td>1</td>\n",
       "      <td>1</td>\n",
       "      <td>1</td>\n",
       "      <td>0</td>\n",
       "      <td>1</td>\n",
       "      <td>0</td>\n",
       "    </tr>\n",
       "    <tr>\n",
       "      <th>4</th>\n",
       "      <td>0</td>\n",
       "      <td>0</td>\n",
       "      <td>0</td>\n",
       "      <td>1</td>\n",
       "      <td>1</td>\n",
       "      <td>1</td>\n",
       "      <td>2</td>\n",
       "      <td>1</td>\n",
       "      <td>1</td>\n",
       "      <td>1</td>\n",
       "      <td>...</td>\n",
       "      <td>1</td>\n",
       "      <td>0</td>\n",
       "      <td>0</td>\n",
       "      <td>0</td>\n",
       "      <td>1</td>\n",
       "      <td>1</td>\n",
       "      <td>0</td>\n",
       "      <td>0</td>\n",
       "      <td>2</td>\n",
       "      <td>0</td>\n",
       "    </tr>\n",
       "    <tr>\n",
       "      <th>5</th>\n",
       "      <td>0</td>\n",
       "      <td>0</td>\n",
       "      <td>0</td>\n",
       "      <td>0</td>\n",
       "      <td>1</td>\n",
       "      <td>0</td>\n",
       "      <td>1</td>\n",
       "      <td>0</td>\n",
       "      <td>0</td>\n",
       "      <td>0</td>\n",
       "      <td>...</td>\n",
       "      <td>0</td>\n",
       "      <td>0</td>\n",
       "      <td>0</td>\n",
       "      <td>0</td>\n",
       "      <td>1</td>\n",
       "      <td>1</td>\n",
       "      <td>0</td>\n",
       "      <td>0</td>\n",
       "      <td>1</td>\n",
       "      <td>0</td>\n",
       "    </tr>\n",
       "    <tr>\n",
       "      <th>6</th>\n",
       "      <td>0</td>\n",
       "      <td>0</td>\n",
       "      <td>0</td>\n",
       "      <td>0</td>\n",
       "      <td>0</td>\n",
       "      <td>0</td>\n",
       "      <td>0</td>\n",
       "      <td>0</td>\n",
       "      <td>0</td>\n",
       "      <td>0</td>\n",
       "      <td>...</td>\n",
       "      <td>0</td>\n",
       "      <td>0</td>\n",
       "      <td>0</td>\n",
       "      <td>0</td>\n",
       "      <td>0</td>\n",
       "      <td>0</td>\n",
       "      <td>0</td>\n",
       "      <td>-1</td>\n",
       "      <td>0</td>\n",
       "      <td>0</td>\n",
       "    </tr>\n",
       "    <tr>\n",
       "      <th>7</th>\n",
       "      <td>-1</td>\n",
       "      <td>0</td>\n",
       "      <td>0</td>\n",
       "      <td>0</td>\n",
       "      <td>0</td>\n",
       "      <td>0</td>\n",
       "      <td>0</td>\n",
       "      <td>0</td>\n",
       "      <td>0</td>\n",
       "      <td>0</td>\n",
       "      <td>...</td>\n",
       "      <td>0</td>\n",
       "      <td>0</td>\n",
       "      <td>1</td>\n",
       "      <td>1</td>\n",
       "      <td>0</td>\n",
       "      <td>0</td>\n",
       "      <td>0</td>\n",
       "      <td>0</td>\n",
       "      <td>0</td>\n",
       "      <td>0</td>\n",
       "    </tr>\n",
       "    <tr>\n",
       "      <th>8</th>\n",
       "      <td>-1</td>\n",
       "      <td>0</td>\n",
       "      <td>0</td>\n",
       "      <td>0</td>\n",
       "      <td>0</td>\n",
       "      <td>0</td>\n",
       "      <td>0</td>\n",
       "      <td>0</td>\n",
       "      <td>0</td>\n",
       "      <td>0</td>\n",
       "      <td>...</td>\n",
       "      <td>0</td>\n",
       "      <td>0</td>\n",
       "      <td>0</td>\n",
       "      <td>1</td>\n",
       "      <td>1</td>\n",
       "      <td>0</td>\n",
       "      <td>1</td>\n",
       "      <td>0</td>\n",
       "      <td>0</td>\n",
       "      <td>0</td>\n",
       "    </tr>\n",
       "    <tr>\n",
       "      <th>9</th>\n",
       "      <td>-1</td>\n",
       "      <td>0</td>\n",
       "      <td>0</td>\n",
       "      <td>0</td>\n",
       "      <td>0</td>\n",
       "      <td>0</td>\n",
       "      <td>0</td>\n",
       "      <td>0</td>\n",
       "      <td>0</td>\n",
       "      <td>0</td>\n",
       "      <td>...</td>\n",
       "      <td>0</td>\n",
       "      <td>0</td>\n",
       "      <td>0</td>\n",
       "      <td>0</td>\n",
       "      <td>1</td>\n",
       "      <td>0</td>\n",
       "      <td>1</td>\n",
       "      <td>0</td>\n",
       "      <td>0</td>\n",
       "      <td>0</td>\n",
       "    </tr>\n",
       "  </tbody>\n",
       "</table>\n",
       "<p>10 rows × 23 columns</p>\n",
       "</div>"
      ],
      "text/plain": [
       "   MDVP:Fo(Hz)  MDVP:Fhi(Hz)  MDVP:Flo(Hz)  MDVP:Jitter(%)  MDVP:Jitter(Abs)  \\\n",
       "0            0             0             0               0                 0   \n",
       "1            0             0             0               0                 1   \n",
       "2            0             0             0               0                 1   \n",
       "3            0             0             0               0                 1   \n",
       "4            0             0             0               1                 1   \n",
       "5            0             0             0               0                 1   \n",
       "6            0             0             0               0                 0   \n",
       "7           -1             0             0               0                 0   \n",
       "8           -1             0             0               0                 0   \n",
       "9           -1             0             0               0                 0   \n",
       "\n",
       "   MDVP:RAP  MDVP:PPQ  Jitter:DDP  MDVP:Shimmer  MDVP:Shimmer(dB)   ...    \\\n",
       "0         0         0           0             0                 0   ...     \n",
       "1         0         1           0             1                 1   ...     \n",
       "2         0         1           0             1                 1   ...     \n",
       "3         0         1           0             1                 1   ...     \n",
       "4         1         2           1             1                 1   ...     \n",
       "5         0         1           0             0                 0   ...     \n",
       "6         0         0           0             0                 0   ...     \n",
       "7         0         0           0             0                 0   ...     \n",
       "8         0         0           0             0                 0   ...     \n",
       "9         0         0           0             0                 0   ...     \n",
       "\n",
       "   Shimmer:DDA  NHR  HNR  RPDE  DFA  spread1  spread2  D2  PPE  labels  \n",
       "0            0    0    0     0    1        0        0   0    0       0  \n",
       "1            1    0    0     0    1        1        1   0    1       0  \n",
       "2            1    0    0     0    1        1        1   0    1       0  \n",
       "3            1    0    0     0    1        1        1   0    1       0  \n",
       "4            1    0    0     0    1        1        0   0    2       0  \n",
       "5            0    0    0     0    1        1        0   0    1       0  \n",
       "6            0    0    0     0    0        0        0  -1    0       0  \n",
       "7            0    0    1     1    0        0        0   0    0       0  \n",
       "8            0    0    0     1    1        0        1   0    0       0  \n",
       "9            0    0    0     0    1        0        1   0    0       0  \n",
       "\n",
       "[10 rows x 23 columns]"
      ]
     },
     "execution_count": 42,
     "metadata": {},
     "output_type": "execute_result"
    }
   ],
   "source": [
    "#import and clean data\n",
    "park_df = pd.read_csv('parkinsons.data') \n",
    "park_df = park_df.drop(columns=['name']) #dropping id column\n",
    "\n",
    "park_df['labels'] = park_df['status']\n",
    "park_df = park_df.drop(columns=['status'])\n",
    "\n",
    "scaler = StandardScaler()\n",
    "park = pd.DataFrame((scaler.fit_transform(park_df)).astype('int'), columns = park_df.columns) #normalizing data\n",
    "\n",
    "park.head(10)"
   ]
  },
  {
   "cell_type": "markdown",
   "metadata": {},
   "source": [
    "## Classifier Functions"
   ]
  },
  {
   "cell_type": "code",
   "execution_count": 43,
   "metadata": {},
   "outputs": [],
   "source": [
    "def results(clf, xTest, yTest):\n",
    "    \n",
    "    print (\"accuracy score: \" + str(clf.score(xTest, yTest)))\n",
    "    return clf.score(xTest, yTest)"
   ]
  },
  {
   "cell_type": "markdown",
   "metadata": {},
   "source": [
    "### 1 Linear SVM"
   ]
  },
  {
   "cell_type": "code",
   "execution_count": 44,
   "metadata": {},
   "outputs": [],
   "source": [
    "def svm(x_train, y_train):\n",
    "    \n",
    "    \n",
    "    #scaling = preprocessing.RobustScaler()\n",
    "    #x_train = scaling.fit_transform(x_train)\n",
    "    \n",
    "    clf = LinearSVC(loss=\"hinge\") #hinge loss improved performance\n",
    "    param_grid = {'C': [10e-7, 10e-6, 10e-5, 10**-4,10e-3, 10**-2, 10**-1, 1]}# Different C to try.\n",
    "    clas = GridSearchCV(clf, param_grid = param_grid, cv = 5, return_train_score=True, n_jobs=-1)#identify the best C\n",
    "    \n",
    "    clas.fit(x_train, y_train) #fit the classifier w/ train data\n",
    "    \n",
    "    print(\"C\" + str(clas.best_estimator_.C))\n",
    "    \n",
    "    return clas"
   ]
  },
  {
   "cell_type": "markdown",
   "metadata": {},
   "source": [
    "### 2 Decision Tree"
   ]
  },
  {
   "cell_type": "code",
   "execution_count": 45,
   "metadata": {},
   "outputs": [],
   "source": [
    "def decision_tree(x_train, y_train):\n",
    "    clf = DecisionTreeClassifier()\n",
    "    param_grid = {'max_depth':[None, 2, 4, 8],}\n",
    "    clas = GridSearchCV(estimator = clf, param_grid = param_grid, cv = 5, return_train_score=True )\n",
    "\n",
    "    clas.fit(x_train, y_train)\n",
    "    \n",
    "    return clas"
   ]
  },
  {
   "cell_type": "markdown",
   "metadata": {},
   "source": [
    "### 3. KNN"
   ]
  },
  {
   "cell_type": "code",
   "execution_count": 46,
   "metadata": {},
   "outputs": [],
   "source": [
    "def kNN(x_train, y_train):\n",
    "    clf = KNeighborsClassifier()\n",
    "    \n",
    "    param_grid = {'n_neighbors': [1,2,3,4,5,6,7]} #tried using 26 large k, spaced out. but acc was very loww every time\n",
    "    clas = GridSearchCV(estimator = clf, param_grid = param_grid, cv = 5, return_train_score=True )\n",
    "\n",
    "    clas.fit(x_train, y_train)\n",
    "    \n",
    "    print(\"K\" + str(clas.best_estimator_.n_neighbors))\n",
    "    \n",
    "    return clas\n"
   ]
  },
  {
   "cell_type": "markdown",
   "metadata": {},
   "source": [
    "### 4. Random Forest"
   ]
  },
  {
   "cell_type": "code",
   "execution_count": 105,
   "metadata": {},
   "outputs": [],
   "source": [
    "def forest(x_train, y_train):\n",
    "    clf = RandomForestClassifier(n_estimators=1024, n_jobs=-1, criterion='entropy')\n",
    "    \n",
    "    #max_depth = {'max_depth':[None, 0, 4, 8, 16]}\n",
    "    \n",
    "    #max features converted to float because dataset entries are float types\n",
    "    #based on sklearn documentation: \n",
    "    #https://scikit-learn.org/stable/modules/generated/sklearn.ensemble.RandomForestClassifier.html\n",
    "    \n",
    "    param_grid = {\n",
    "        'max_features': [1,2,4,6,8,12]} \n",
    "    \n",
    "    clas = GridSearchCV(clf, param_grid, cv=5, return_train_score=True)\n",
    "    clas.fit(x_train, y_train)\n",
    "    \n",
    "    return clas\n",
    "    "
   ]
  },
  {
   "cell_type": "markdown",
   "metadata": {},
   "source": [
    "### 5. Logistic Regression"
   ]
  },
  {
   "cell_type": "code",
   "execution_count": 48,
   "metadata": {},
   "outputs": [],
   "source": [
    "def log(x_train, y_train):\n",
    "    \n",
    "    clf = LogisticRegression(solver='liblinear', multi_class='ovr')\n",
    "    \n",
    "    param_grid = {'C' : [0.001, 0.01, 0.1, 1, 10]}\n",
    "    \n",
    "    clas = GridSearchCV(estimator = clf, param_grid = param_grid, cv = 5, return_train_score=True )\n",
    "\n",
    "    clas.fit(x_train, y_train)\n",
    "    \n",
    "    return clas\n"
   ]
  },
  {
   "cell_type": "markdown",
   "metadata": {},
   "source": [
    "## Classification Methods"
   ]
  },
  {
   "cell_type": "markdown",
   "metadata": {},
   "source": [
    "#### Functions to Shuffle, Partition, Cross-Validate, and Test Datasets over Classifiers for 3 Trials and 3 Partitions"
   ]
  },
  {
   "cell_type": "code",
   "execution_count": 49,
   "metadata": {},
   "outputs": [],
   "source": [
    "#function to partition datasets\n",
    "def partition(train_size, length, Dataset): \n",
    "\n",
    "    X = Dataset.iloc[:, :length]    # First column to second last column: Features (numerical values) \n",
    "    Y = Dataset.iloc[:, length]\n",
    "    X_train_val = X.iloc[:int(train_size * len(X)), :] # Get features from train + val set.        \n",
    "    X_test = X.iloc[int(train_size * len(X)):, :] # Get features from test set.     \n",
    "    Y_train_val = Y.iloc[:int(train_size * len(X))] # Get labels from train + val set.\n",
    "    Y_test = Y.iloc[int(train_size * len(X)):]# Get labels from test set.  \n",
    "        \n",
    "    return X_train_val, X_test, Y_train_val, Y_test\n",
    "        \n",
    "        \n",
    "        "
   ]
  },
  {
   "cell_type": "code",
   "execution_count": 56,
   "metadata": {},
   "outputs": [],
   "source": [
    "def classifier_single_results(clas, data, train_size, df_length):\n",
    "\n",
    "    test = 0\n",
    "    train = 0\n",
    "    val = 0\n",
    "        \n",
    "    X_train_val, X_test, Y_train_val, Y_test = partition(train_size, df_length, data) #getting partitions\n",
    "    \n",
    "    clf = clas(X_train_val, Y_train_val) #training on classifier\n",
    "\n",
    "    test = (results(clf, X_test, Y_test))\n",
    "    train = (clf.cv_results_['mean_train_score'])\n",
    "    val = (clf.cv_results_['mean_test_score'])\n",
    "\n",
    "    #print((clf.cv_results_['mean_train_score']))\n",
    "    #print((clf.cv_results_['mean_test_score']))\n",
    "    \n",
    "    return test, train, val"
   ]
  },
  {
   "cell_type": "code",
   "execution_count": 51,
   "metadata": {},
   "outputs": [],
   "source": [
    "def shuffle(dataset):\n",
    "    D1 = dataset.sample(frac=1)\n",
    "    D2 = dataset.sample(frac=1)\n",
    "    D3 = dataset.sample(frac=1)\n",
    "    return D1, D2, D3\n"
   ]
  },
  {
   "cell_type": "code",
   "execution_count": 57,
   "metadata": {},
   "outputs": [],
   "source": [
    "def get_results(datset_list, df_length, classifiers, train_size, DF):\n",
    "    \n",
    "    #to help store test results, easier for final comparison\n",
    "    i=0\n",
    "    if train_size == 0.2:\n",
    "        j = 0\n",
    "    if train_size == 0.5:\n",
    "        j = 1\n",
    "    if train_size == 0.8:\n",
    "        j = 2\n",
    "    for clas in classifiers: #loop thru each classifier over single dataset\n",
    "        \n",
    "        \n",
    "        \n",
    "        print(\"train size is: \" + str(int(train_size * 100)))\n",
    "        print(clas.__name__)\n",
    "\n",
    "        train = []\n",
    "        val = []\n",
    "        test = []\n",
    "\n",
    "        for d in range(len(dataset_list)): # three trials, each w/ differently shuffled data, but same partitions\n",
    "\n",
    "\n",
    "            test1, train1, val1 = classifier_single_results(clas, dataset_list[d], train_size, df_length)\n",
    "            \n",
    "\n",
    "            test.append(test1)\n",
    "            train.append(train1)\n",
    "            val.append(val1)\n",
    "\n",
    "            \n",
    "        train = max(np.array(train).mean(axis=0))\n",
    "        val = max(np.array(val).mean(axis=0))\n",
    "        test = np.mean(test)\n",
    "\n",
    "        print(\"avg train acc : \" + str(train))\n",
    "        print(\"avg val acc: \" + str(val))\n",
    "    \n",
    "        \n",
    "        print(\"avg test acc: \" + str(test))\n",
    "\n",
    "\n",
    "        DF.iloc[j, i] = test\n",
    "\n",
    "        print('\\n')\n",
    "        i = 1+i\n",
    "    return DF\n"
   ]
  },
  {
   "cell_type": "markdown",
   "metadata": {},
   "source": [
    "### Running and Testing Classifiers"
   ]
  },
  {
   "cell_type": "markdown",
   "metadata": {},
   "source": [
    "#### Iris"
   ]
  },
  {
   "cell_type": "code",
   "execution_count": 63,
   "metadata": {},
   "outputs": [
    {
     "name": "stdout",
     "output_type": "stream",
     "text": [
      "train size is: 20\n",
      "kNN\n",
      "K1\n",
      "accuracy score: 0.9375\n"
     ]
    },
    {
     "name": "stderr",
     "output_type": "stream",
     "text": [
      "/Users/anonagupta/anaconda3/lib/python3.7/site-packages/sklearn/model_selection/_search.py:841: DeprecationWarning: The default of the `iid` parameter will change from True to False in version 0.22 and will be removed in 0.24. This will change numeric results when test-set sizes are unequal.\n",
      "  DeprecationWarning)\n",
      "/Users/anonagupta/anaconda3/lib/python3.7/site-packages/sklearn/model_selection/_search.py:841: DeprecationWarning: The default of the `iid` parameter will change from True to False in version 0.22 and will be removed in 0.24. This will change numeric results when test-set sizes are unequal.\n",
      "  DeprecationWarning)\n"
     ]
    },
    {
     "name": "stdout",
     "output_type": "stream",
     "text": [
      "K7\n",
      "accuracy score: 0.9\n",
      "K1\n",
      "accuracy score: 0.9625\n",
      "avg train acc : 1.0\n",
      "avg val acc: 0.9166666666666666\n",
      "avg test acc: 0.9333333333333332\n",
      "\n",
      "\n",
      "train size is: 20\n",
      "decision_tree\n"
     ]
    },
    {
     "name": "stderr",
     "output_type": "stream",
     "text": [
      "/Users/anonagupta/anaconda3/lib/python3.7/site-packages/sklearn/model_selection/_search.py:841: DeprecationWarning: The default of the `iid` parameter will change from True to False in version 0.22 and will be removed in 0.24. This will change numeric results when test-set sizes are unequal.\n",
      "  DeprecationWarning)\n",
      "/Users/anonagupta/anaconda3/lib/python3.7/site-packages/sklearn/model_selection/_search.py:841: DeprecationWarning: The default of the `iid` parameter will change from True to False in version 0.22 and will be removed in 0.24. This will change numeric results when test-set sizes are unequal.\n",
      "  DeprecationWarning)\n",
      "/Users/anonagupta/anaconda3/lib/python3.7/site-packages/sklearn/model_selection/_search.py:841: DeprecationWarning: The default of the `iid` parameter will change from True to False in version 0.22 and will be removed in 0.24. This will change numeric results when test-set sizes are unequal.\n",
      "  DeprecationWarning)\n"
     ]
    },
    {
     "name": "stdout",
     "output_type": "stream",
     "text": [
      "accuracy score: 0.925\n",
      "accuracy score: 0.875\n",
      "accuracy score: 0.925\n",
      "avg train acc : 1.0\n",
      "avg val acc: 0.9500000000000001\n",
      "avg test acc: 0.9083333333333333\n",
      "\n",
      "\n",
      "train size is: 20\n",
      "svm\n"
     ]
    },
    {
     "name": "stderr",
     "output_type": "stream",
     "text": [
      "/Users/anonagupta/anaconda3/lib/python3.7/site-packages/sklearn/model_selection/_search.py:841: DeprecationWarning: The default of the `iid` parameter will change from True to False in version 0.22 and will be removed in 0.24. This will change numeric results when test-set sizes are unequal.\n",
      "  DeprecationWarning)\n",
      "/Users/anonagupta/anaconda3/lib/python3.7/site-packages/sklearn/svm/base.py:922: ConvergenceWarning: Liblinear failed to converge, increase the number of iterations.\n",
      "  \"the number of iterations.\", ConvergenceWarning)\n",
      "/Users/anonagupta/anaconda3/lib/python3.7/site-packages/sklearn/model_selection/_search.py:841: DeprecationWarning: The default of the `iid` parameter will change from True to False in version 0.22 and will be removed in 0.24. This will change numeric results when test-set sizes are unequal.\n",
      "  DeprecationWarning)\n",
      "/Users/anonagupta/anaconda3/lib/python3.7/site-packages/sklearn/svm/base.py:922: ConvergenceWarning: Liblinear failed to converge, increase the number of iterations.\n",
      "  \"the number of iterations.\", ConvergenceWarning)\n"
     ]
    },
    {
     "name": "stdout",
     "output_type": "stream",
     "text": [
      "C1\n",
      "accuracy score: 0.95\n",
      "C1\n",
      "accuracy score: 0.9625\n"
     ]
    },
    {
     "name": "stderr",
     "output_type": "stream",
     "text": [
      "/Users/anonagupta/anaconda3/lib/python3.7/site-packages/sklearn/model_selection/_search.py:841: DeprecationWarning: The default of the `iid` parameter will change from True to False in version 0.22 and will be removed in 0.24. This will change numeric results when test-set sizes are unequal.\n",
      "  DeprecationWarning)\n",
      "/Users/anonagupta/anaconda3/lib/python3.7/site-packages/sklearn/svm/base.py:922: ConvergenceWarning: Liblinear failed to converge, increase the number of iterations.\n",
      "  \"the number of iterations.\", ConvergenceWarning)\n",
      "/Users/anonagupta/anaconda3/lib/python3.7/site-packages/sklearn/model_selection/_search.py:841: DeprecationWarning: The default of the `iid` parameter will change from True to False in version 0.22 and will be removed in 0.24. This will change numeric results when test-set sizes are unequal.\n",
      "  DeprecationWarning)\n"
     ]
    },
    {
     "name": "stdout",
     "output_type": "stream",
     "text": [
      "C1\n",
      "accuracy score: 0.95\n",
      "avg train acc : 0.9621568627450982\n",
      "avg val acc: 0.9499999999999998\n",
      "avg test acc: 0.9541666666666666\n",
      "\n",
      "\n",
      "train size is: 20\n",
      "log\n",
      "accuracy score: 0.9\n"
     ]
    },
    {
     "name": "stderr",
     "output_type": "stream",
     "text": [
      "/Users/anonagupta/anaconda3/lib/python3.7/site-packages/sklearn/model_selection/_search.py:841: DeprecationWarning: The default of the `iid` parameter will change from True to False in version 0.22 and will be removed in 0.24. This will change numeric results when test-set sizes are unequal.\n",
      "  DeprecationWarning)\n",
      "/Users/anonagupta/anaconda3/lib/python3.7/site-packages/sklearn/model_selection/_search.py:841: DeprecationWarning: The default of the `iid` parameter will change from True to False in version 0.22 and will be removed in 0.24. This will change numeric results when test-set sizes are unequal.\n",
      "  DeprecationWarning)\n"
     ]
    },
    {
     "name": "stdout",
     "output_type": "stream",
     "text": [
      "accuracy score: 0.9375\n",
      "accuracy score: 0.925\n",
      "avg train acc : 0.9705228758169935\n",
      "avg val acc: 0.9499999999999998\n",
      "avg test acc: 0.9208333333333334\n",
      "\n",
      "\n",
      "train size is: 20\n",
      "forest\n"
     ]
    },
    {
     "name": "stderr",
     "output_type": "stream",
     "text": [
      "/Users/anonagupta/anaconda3/lib/python3.7/site-packages/sklearn/model_selection/_search.py:841: DeprecationWarning: The default of the `iid` parameter will change from True to False in version 0.22 and will be removed in 0.24. This will change numeric results when test-set sizes are unequal.\n",
      "  DeprecationWarning)\n"
     ]
    },
    {
     "name": "stdout",
     "output_type": "stream",
     "text": [
      "accuracy score: 0.925\n"
     ]
    },
    {
     "name": "stderr",
     "output_type": "stream",
     "text": [
      "/Users/anonagupta/anaconda3/lib/python3.7/site-packages/sklearn/model_selection/_search.py:841: DeprecationWarning: The default of the `iid` parameter will change from True to False in version 0.22 and will be removed in 0.24. This will change numeric results when test-set sizes are unequal.\n",
      "  DeprecationWarning)\n"
     ]
    },
    {
     "name": "stdout",
     "output_type": "stream",
     "text": [
      "accuracy score: 0.9125\n",
      "accuracy score: 0.925\n",
      "avg train acc : 1.0\n",
      "avg val acc: 0.9333333333333332\n",
      "avg test acc: 0.9208333333333334\n",
      "\n",
      "\n",
      "train size is: 50\n",
      "kNN\n",
      "K1\n",
      "accuracy score: 0.88\n",
      "K1\n",
      "accuracy score: 0.92\n",
      "K1\n",
      "accuracy score: 0.94\n",
      "avg train acc : 1.0\n",
      "avg val acc: 0.98\n",
      "avg test acc: 0.9133333333333334\n",
      "\n",
      "\n",
      "train size is: 50\n",
      "decision_tree\n"
     ]
    },
    {
     "name": "stderr",
     "output_type": "stream",
     "text": [
      "/Users/anonagupta/anaconda3/lib/python3.7/site-packages/sklearn/model_selection/_search.py:841: DeprecationWarning: The default of the `iid` parameter will change from True to False in version 0.22 and will be removed in 0.24. This will change numeric results when test-set sizes are unequal.\n",
      "  DeprecationWarning)\n"
     ]
    },
    {
     "name": "stdout",
     "output_type": "stream",
     "text": [
      "accuracy score: 0.96\n",
      "accuracy score: 0.92\n",
      "accuracy score: 0.96\n",
      "avg train acc : 1.0\n",
      "avg val acc: 0.9066666666666667\n",
      "avg test acc: 0.9466666666666667\n",
      "\n",
      "\n",
      "train size is: 50\n",
      "svm\n"
     ]
    },
    {
     "name": "stderr",
     "output_type": "stream",
     "text": [
      "/Users/anonagupta/anaconda3/lib/python3.7/site-packages/sklearn/model_selection/_search.py:841: DeprecationWarning: The default of the `iid` parameter will change from True to False in version 0.22 and will be removed in 0.24. This will change numeric results when test-set sizes are unequal.\n",
      "  DeprecationWarning)\n",
      "/Users/anonagupta/anaconda3/lib/python3.7/site-packages/sklearn/svm/base.py:922: ConvergenceWarning: Liblinear failed to converge, increase the number of iterations.\n",
      "  \"the number of iterations.\", ConvergenceWarning)\n",
      "/Users/anonagupta/anaconda3/lib/python3.7/site-packages/sklearn/svm/base.py:922: ConvergenceWarning: Liblinear failed to converge, increase the number of iterations.\n",
      "  \"the number of iterations.\", ConvergenceWarning)\n"
     ]
    },
    {
     "name": "stdout",
     "output_type": "stream",
     "text": [
      "C1\n",
      "accuracy score: 0.94\n",
      "C0.1\n",
      "accuracy score: 0.96\n"
     ]
    },
    {
     "name": "stderr",
     "output_type": "stream",
     "text": [
      "/Users/anonagupta/anaconda3/lib/python3.7/site-packages/sklearn/model_selection/_search.py:841: DeprecationWarning: The default of the `iid` parameter will change from True to False in version 0.22 and will be removed in 0.24. This will change numeric results when test-set sizes are unequal.\n",
      "  DeprecationWarning)\n",
      "/Users/anonagupta/anaconda3/lib/python3.7/site-packages/sklearn/svm/base.py:922: ConvergenceWarning: Liblinear failed to converge, increase the number of iterations.\n",
      "  \"the number of iterations.\", ConvergenceWarning)\n"
     ]
    },
    {
     "name": "stdout",
     "output_type": "stream",
     "text": [
      "C1\n",
      "accuracy score: 0.96\n",
      "avg train acc : 0.9832885136543673\n",
      "avg val acc: 0.9733333333333333\n",
      "avg test acc: 0.9533333333333333\n",
      "\n",
      "\n",
      "train size is: 50\n",
      "log\n",
      "accuracy score: 0.94\n",
      "accuracy score: 0.94\n",
      "accuracy score: 0.92\n",
      "avg train acc : 0.9866218469877005\n",
      "avg val acc: 0.9733333333333333\n",
      "avg test acc: 0.9333333333333332\n",
      "\n",
      "\n",
      "train size is: 50\n",
      "forest\n"
     ]
    },
    {
     "name": "stderr",
     "output_type": "stream",
     "text": [
      "/Users/anonagupta/anaconda3/lib/python3.7/site-packages/sklearn/model_selection/_search.py:841: DeprecationWarning: The default of the `iid` parameter will change from True to False in version 0.22 and will be removed in 0.24. This will change numeric results when test-set sizes are unequal.\n",
      "  DeprecationWarning)\n"
     ]
    },
    {
     "name": "stdout",
     "output_type": "stream",
     "text": [
      "accuracy score: 0.94\n",
      "accuracy score: 0.86\n"
     ]
    },
    {
     "name": "stderr",
     "output_type": "stream",
     "text": [
      "/Users/anonagupta/anaconda3/lib/python3.7/site-packages/sklearn/model_selection/_search.py:841: DeprecationWarning: The default of the `iid` parameter will change from True to False in version 0.22 and will be removed in 0.24. This will change numeric results when test-set sizes are unequal.\n",
      "  DeprecationWarning)\n"
     ]
    },
    {
     "name": "stdout",
     "output_type": "stream",
     "text": [
      "accuracy score: 0.96\n",
      "avg train acc : 1.0\n",
      "avg val acc: 0.9466666666666667\n",
      "avg test acc: 0.9199999999999999\n",
      "\n",
      "\n",
      "train size is: 80\n",
      "kNN\n",
      "K5\n",
      "accuracy score: 1.0\n"
     ]
    },
    {
     "name": "stderr",
     "output_type": "stream",
     "text": [
      "/Users/anonagupta/anaconda3/lib/python3.7/site-packages/sklearn/model_selection/_search.py:841: DeprecationWarning: The default of the `iid` parameter will change from True to False in version 0.22 and will be removed in 0.24. This will change numeric results when test-set sizes are unequal.\n",
      "  DeprecationWarning)\n"
     ]
    },
    {
     "name": "stdout",
     "output_type": "stream",
     "text": [
      "K3\n",
      "accuracy score: 0.9\n",
      "K7\n",
      "accuracy score: 0.9\n",
      "avg train acc : 1.0\n",
      "avg val acc: 0.9583333333333334\n",
      "avg test acc: 0.9333333333333332\n",
      "\n",
      "\n",
      "train size is: 80\n",
      "decision_tree\n"
     ]
    },
    {
     "name": "stderr",
     "output_type": "stream",
     "text": [
      "/Users/anonagupta/anaconda3/lib/python3.7/site-packages/sklearn/model_selection/_search.py:841: DeprecationWarning: The default of the `iid` parameter will change from True to False in version 0.22 and will be removed in 0.24. This will change numeric results when test-set sizes are unequal.\n",
      "  DeprecationWarning)\n",
      "/Users/anonagupta/anaconda3/lib/python3.7/site-packages/sklearn/model_selection/_search.py:841: DeprecationWarning: The default of the `iid` parameter will change from True to False in version 0.22 and will be removed in 0.24. This will change numeric results when test-set sizes are unequal.\n",
      "  DeprecationWarning)\n"
     ]
    },
    {
     "name": "stdout",
     "output_type": "stream",
     "text": [
      "accuracy score: 0.95\n",
      "accuracy score: 0.9\n",
      "accuracy score: 0.9\n",
      "avg train acc : 1.0\n",
      "avg val acc: 0.9333333333333332\n",
      "avg test acc: 0.9166666666666666\n",
      "\n",
      "\n",
      "train size is: 80\n",
      "svm\n"
     ]
    },
    {
     "name": "stderr",
     "output_type": "stream",
     "text": [
      "/Users/anonagupta/anaconda3/lib/python3.7/site-packages/sklearn/model_selection/_search.py:841: DeprecationWarning: The default of the `iid` parameter will change from True to False in version 0.22 and will be removed in 0.24. This will change numeric results when test-set sizes are unequal.\n",
      "  DeprecationWarning)\n",
      "/Users/anonagupta/anaconda3/lib/python3.7/site-packages/sklearn/svm/base.py:922: ConvergenceWarning: Liblinear failed to converge, increase the number of iterations.\n",
      "  \"the number of iterations.\", ConvergenceWarning)\n"
     ]
    },
    {
     "name": "stdout",
     "output_type": "stream",
     "text": [
      "C0.1\n",
      "accuracy score: 1.0\n",
      "C0.1\n",
      "accuracy score: 0.95\n"
     ]
    },
    {
     "name": "stderr",
     "output_type": "stream",
     "text": [
      "/Users/anonagupta/anaconda3/lib/python3.7/site-packages/sklearn/svm/base.py:922: ConvergenceWarning: Liblinear failed to converge, increase the number of iterations.\n",
      "  \"the number of iterations.\", ConvergenceWarning)\n",
      "/Users/anonagupta/anaconda3/lib/python3.7/site-packages/sklearn/model_selection/_search.py:841: DeprecationWarning: The default of the `iid` parameter will change from True to False in version 0.22 and will be removed in 0.24. This will change numeric results when test-set sizes are unequal.\n",
      "  DeprecationWarning)\n"
     ]
    },
    {
     "name": "stdout",
     "output_type": "stream",
     "text": [
      "C1\n",
      "accuracy score: 0.9\n",
      "avg train acc : 0.9770477207977208\n",
      "avg val acc: 0.9708333333333333\n",
      "avg test acc: 0.9500000000000001\n",
      "\n",
      "\n",
      "train size is: 80\n",
      "log\n",
      "accuracy score: 1.0\n",
      "accuracy score: 0.95\n"
     ]
    },
    {
     "name": "stderr",
     "output_type": "stream",
     "text": [
      "/Users/anonagupta/anaconda3/lib/python3.7/site-packages/sklearn/model_selection/_search.py:841: DeprecationWarning: The default of the `iid` parameter will change from True to False in version 0.22 and will be removed in 0.24. This will change numeric results when test-set sizes are unequal.\n",
      "  DeprecationWarning)\n"
     ]
    },
    {
     "name": "stdout",
     "output_type": "stream",
     "text": [
      "accuracy score: 0.85\n",
      "avg train acc : 0.9801732295482296\n",
      "avg val acc: 0.9666666666666668\n",
      "avg test acc: 0.9333333333333332\n",
      "\n",
      "\n",
      "train size is: 80\n",
      "forest\n"
     ]
    },
    {
     "name": "stderr",
     "output_type": "stream",
     "text": [
      "/Users/anonagupta/anaconda3/lib/python3.7/site-packages/sklearn/model_selection/_search.py:841: DeprecationWarning: The default of the `iid` parameter will change from True to False in version 0.22 and will be removed in 0.24. This will change numeric results when test-set sizes are unequal.\n",
      "  DeprecationWarning)\n"
     ]
    },
    {
     "name": "stdout",
     "output_type": "stream",
     "text": [
      "accuracy score: 1.0\n",
      "accuracy score: 0.9\n",
      "accuracy score: 0.9\n",
      "avg train acc : 1.0\n",
      "avg val acc: 0.9333333333333332\n",
      "avg test acc: 0.9333333333333332\n",
      "\n",
      "\n"
     ]
    },
    {
     "data": {
      "text/html": [
       "<div>\n",
       "<style scoped>\n",
       "    .dataframe tbody tr th:only-of-type {\n",
       "        vertical-align: middle;\n",
       "    }\n",
       "\n",
       "    .dataframe tbody tr th {\n",
       "        vertical-align: top;\n",
       "    }\n",
       "\n",
       "    .dataframe thead th {\n",
       "        text-align: right;\n",
       "    }\n",
       "</style>\n",
       "<table border=\"1\" class=\"dataframe\">\n",
       "  <thead>\n",
       "    <tr style=\"text-align: right;\">\n",
       "      <th></th>\n",
       "      <th>knn</th>\n",
       "      <th>tree</th>\n",
       "      <th>svm</th>\n",
       "      <th>log</th>\n",
       "      <th>forest</th>\n",
       "    </tr>\n",
       "  </thead>\n",
       "  <tbody>\n",
       "    <tr>\n",
       "      <th>20</th>\n",
       "      <td>0.933333</td>\n",
       "      <td>0.908333</td>\n",
       "      <td>0.954167</td>\n",
       "      <td>0.920833</td>\n",
       "      <td>0.920833</td>\n",
       "    </tr>\n",
       "    <tr>\n",
       "      <th>50</th>\n",
       "      <td>0.913333</td>\n",
       "      <td>0.946667</td>\n",
       "      <td>0.953333</td>\n",
       "      <td>0.933333</td>\n",
       "      <td>0.92</td>\n",
       "    </tr>\n",
       "    <tr>\n",
       "      <th>80</th>\n",
       "      <td>0.933333</td>\n",
       "      <td>0.916667</td>\n",
       "      <td>0.95</td>\n",
       "      <td>0.933333</td>\n",
       "      <td>0.933333</td>\n",
       "    </tr>\n",
       "  </tbody>\n",
       "</table>\n",
       "</div>"
      ],
      "text/plain": [
       "         knn      tree       svm       log    forest\n",
       "20  0.933333  0.908333  0.954167  0.920833  0.920833\n",
       "50  0.913333  0.946667  0.953333  0.933333      0.92\n",
       "80  0.933333  0.916667      0.95  0.933333  0.933333"
      ]
     },
     "execution_count": 63,
     "metadata": {},
     "output_type": "execute_result"
    }
   ],
   "source": [
    "classifiers = [kNN, decision_tree, svm, log, forest] \n",
    "\n",
    "partition_size = [0.2, 0.5, 0.8]\n",
    "\n",
    "cols = ['knn', 'tree', 'svm', 'log', 'forest']\n",
    "index = [20,50,80]\n",
    "\n",
    "iris_avg= pd.DataFrame(index=index, columns=cols)\n",
    "\n",
    "\n",
    "dataset_list = shuffle(df_iris) #shuffling data 3 times, unified across partitions and classifiers\n",
    "\n",
    "get_results(dataset_list, 4, classifiers, partition_size[0], iris_avg)\n",
    "get_results(dataset_list, 4, classifiers, partition_size[1], iris_avg)\n",
    "get_results(dataset_list, 4, classifiers, partition_size[2], iris_avg)"
   ]
  },
  {
   "cell_type": "markdown",
   "metadata": {},
   "source": [
    "this comparison on the small dataset fits nicely with results of the paper. Decision tree performing worst, while svm models performing best and KNN is really not that bad."
   ]
  },
  {
   "cell_type": "markdown",
   "metadata": {},
   "source": [
    "#### Letter"
   ]
  },
  {
   "cell_type": "code",
   "execution_count": 74,
   "metadata": {},
   "outputs": [],
   "source": [
    "classifiers = [kNN, decision_tree, svm, log] \n",
    "\n",
    "partition_size = [0.2, 0.5, 0.8]\n",
    "\n",
    "cols = ['knn', 'tree',  'svm', 'log']\n",
    "index = [20,50,80]\n",
    "\n",
    "letter_avg= pd.DataFrame(index=index, columns=cols)\n",
    "#accuracy_scores.iloc[0, 4] = 80\n",
    "\n",
    "dataset_list = shuffle(letter) #shuffling data 3 times, unified across partitions and classifiers"
   ]
  },
  {
   "cell_type": "code",
   "execution_count": 75,
   "metadata": {},
   "outputs": [
    {
     "name": "stdout",
     "output_type": "stream",
     "text": [
      "train size is: 20\n",
      "kNN\n",
      "K5\n",
      "accuracy score: 0.759\n",
      "K1\n",
      "accuracy score: 0.77075\n",
      "K1\n",
      "accuracy score: 0.777\n",
      "avg train acc : 0.9614155053367271\n",
      "avg val acc: 0.774\n",
      "avg test acc: 0.7689166666666667\n",
      "\n",
      "\n",
      "train size is: 20\n",
      "decision_tree\n",
      "accuracy score: 0.766\n",
      "accuracy score: 0.77625\n",
      "accuracy score: 0.77775\n",
      "avg train acc : 0.9671656117171018\n",
      "avg val acc: 0.7633333333333333\n",
      "avg test acc: 0.7733333333333334\n",
      "\n",
      "\n",
      "train size is: 20\n",
      "svm\n"
     ]
    },
    {
     "name": "stderr",
     "output_type": "stream",
     "text": [
      "/Users/anonagupta/anaconda3/lib/python3.7/site-packages/sklearn/svm/base.py:922: ConvergenceWarning: Liblinear failed to converge, increase the number of iterations.\n",
      "  \"the number of iterations.\", ConvergenceWarning)\n"
     ]
    },
    {
     "name": "stdout",
     "output_type": "stream",
     "text": [
      "C1\n",
      "accuracy score: 0.70975\n",
      "C0.1\n",
      "accuracy score: 0.7105\n"
     ]
    },
    {
     "name": "stderr",
     "output_type": "stream",
     "text": [
      "/Users/anonagupta/anaconda3/lib/python3.7/site-packages/sklearn/svm/base.py:922: ConvergenceWarning: Liblinear failed to converge, increase the number of iterations.\n",
      "  \"the number of iterations.\", ConvergenceWarning)\n"
     ]
    },
    {
     "name": "stdout",
     "output_type": "stream",
     "text": [
      "C1\n",
      "accuracy score: 0.71675\n",
      "avg train acc : 0.7243345746113145\n",
      "avg val acc: 0.7113333333333333\n",
      "avg test acc: 0.7123333333333334\n",
      "\n",
      "\n",
      "train size is: 20\n",
      "log\n",
      "accuracy score: 0.70125\n",
      "accuracy score: 0.7005\n",
      "accuracy score: 0.70025\n",
      "avg train acc : 0.7164165481768983\n",
      "avg val acc: 0.706\n",
      "avg test acc: 0.7006666666666668\n",
      "\n",
      "\n",
      "train size is: 50\n",
      "kNN\n",
      "K5\n",
      "accuracy score: 0.8104\n",
      "K5\n",
      "accuracy score: 0.804\n",
      "K3\n",
      "accuracy score: 0.802\n",
      "avg train acc : 0.9437670590334314\n",
      "avg val acc: 0.8052\n",
      "avg test acc: 0.8054666666666668\n",
      "\n",
      "\n",
      "train size is: 50\n",
      "decision_tree\n",
      "accuracy score: 0.7996\n",
      "accuracy score: 0.8048\n",
      "accuracy score: 0.7972\n",
      "avg train acc : 0.9528000603333484\n",
      "avg val acc: 0.8081333333333333\n",
      "avg test acc: 0.8005333333333334\n",
      "\n",
      "\n",
      "train size is: 50\n",
      "svm\n",
      "C0.1\n",
      "accuracy score: 0.7064\n"
     ]
    },
    {
     "name": "stderr",
     "output_type": "stream",
     "text": [
      "/Users/anonagupta/anaconda3/lib/python3.7/site-packages/sklearn/svm/base.py:922: ConvergenceWarning: Liblinear failed to converge, increase the number of iterations.\n",
      "  \"the number of iterations.\", ConvergenceWarning)\n"
     ]
    },
    {
     "name": "stdout",
     "output_type": "stream",
     "text": [
      "C1\n",
      "accuracy score: 0.7148\n"
     ]
    },
    {
     "name": "stderr",
     "output_type": "stream",
     "text": [
      "/Users/anonagupta/anaconda3/lib/python3.7/site-packages/sklearn/svm/base.py:922: ConvergenceWarning: Liblinear failed to converge, increase the number of iterations.\n",
      "  \"the number of iterations.\", ConvergenceWarning)\n"
     ]
    },
    {
     "name": "stdout",
     "output_type": "stream",
     "text": [
      "C1\n",
      "accuracy score: 0.6972\n",
      "avg train acc : 0.7218992292831405\n",
      "avg val acc: 0.7146666666666667\n",
      "avg test acc: 0.7061333333333334\n",
      "\n",
      "\n",
      "train size is: 50\n",
      "log\n",
      "accuracy score: 0.7036\n",
      "accuracy score: 0.7072\n",
      "accuracy score: 0.704\n",
      "avg train acc : 0.715934078641853\n",
      "avg val acc: 0.7096\n",
      "avg test acc: 0.7049333333333333\n",
      "\n",
      "\n",
      "train size is: 80\n",
      "kNN\n",
      "K7\n",
      "accuracy score: 0.836\n",
      "K7\n",
      "accuracy score: 0.804\n",
      "K7\n",
      "accuracy score: 0.812\n",
      "avg train acc : 0.9338332052795285\n",
      "avg val acc: 0.816\n",
      "avg test acc: 0.8173333333333334\n",
      "\n",
      "\n",
      "train size is: 80\n",
      "decision_tree\n",
      "accuracy score: 0.836\n",
      "accuracy score: 0.826\n",
      "accuracy score: 0.804\n",
      "avg train acc : 0.944145653928612\n",
      "avg val acc: 0.8116666666666666\n",
      "avg test acc: 0.8220000000000001\n",
      "\n",
      "\n",
      "train size is: 80\n",
      "svm\n"
     ]
    },
    {
     "name": "stderr",
     "output_type": "stream",
     "text": [
      "/Users/anonagupta/anaconda3/lib/python3.7/site-packages/sklearn/svm/base.py:922: ConvergenceWarning: Liblinear failed to converge, increase the number of iterations.\n",
      "  \"the number of iterations.\", ConvergenceWarning)\n"
     ]
    },
    {
     "name": "stdout",
     "output_type": "stream",
     "text": [
      "C1\n",
      "accuracy score: 0.695\n"
     ]
    },
    {
     "name": "stderr",
     "output_type": "stream",
     "text": [
      "/Users/anonagupta/anaconda3/lib/python3.7/site-packages/sklearn/svm/base.py:922: ConvergenceWarning: Liblinear failed to converge, increase the number of iterations.\n",
      "  \"the number of iterations.\", ConvergenceWarning)\n"
     ]
    },
    {
     "name": "stdout",
     "output_type": "stream",
     "text": [
      "C1\n",
      "accuracy score: 0.739\n"
     ]
    },
    {
     "name": "stderr",
     "output_type": "stream",
     "text": [
      "/Users/anonagupta/anaconda3/lib/python3.7/site-packages/sklearn/svm/base.py:922: ConvergenceWarning: Liblinear failed to converge, increase the number of iterations.\n",
      "  \"the number of iterations.\", ConvergenceWarning)\n"
     ]
    },
    {
     "name": "stdout",
     "output_type": "stream",
     "text": [
      "C1\n",
      "accuracy score: 0.718\n",
      "avg train acc : 0.7199999752502418\n",
      "avg val acc: 0.7156666666666668\n",
      "avg test acc: 0.7173333333333334\n",
      "\n",
      "\n",
      "train size is: 80\n",
      "log\n",
      "accuracy score: 0.687\n",
      "accuracy score: 0.727\n",
      "accuracy score: 0.703\n",
      "avg train acc : 0.7142502222269912\n",
      "avg val acc: 0.7105\n",
      "avg test acc: 0.7056666666666667\n",
      "\n",
      "\n",
      "         knn      tree       svm       log\n",
      "20  0.768917  0.773333  0.712333  0.700667\n",
      "50  0.805467  0.800533  0.706133  0.704933\n",
      "80  0.817333     0.822  0.717333  0.705667\n"
     ]
    }
   ],
   "source": [
    "get_results(dataset_list, 16, classifiers, partition_size[0], letter_avg)\n",
    "get_results(dataset_list, 16, classifiers, partition_size[1], letter_avg)\n",
    "get_results(dataset_list, 16, classifiers, partition_size[2], letter_avg)\n",
    "\n",
    "print(letter_avg)"
   ]
  },
  {
   "cell_type": "markdown",
   "metadata": {},
   "source": [
    "#### Adult "
   ]
  },
  {
   "cell_type": "code",
   "execution_count": 97,
   "metadata": {},
   "outputs": [],
   "source": [
    "classifiers = [kNN, decision_tree, svm, log] \n",
    "\n",
    "partition_size = [0.2, 0.5, 0.8]\n",
    "\n",
    "cols = ['knn', 'tree', 'svm', 'log']\n",
    "index = [20,50,80]\n",
    "\n",
    "adult_avg= pd.DataFrame(index=index, columns=cols)\n",
    "#accuracy_scores.iloc[0, 4] = 80\n",
    "\n",
    "dataset_list = shuffle(adult) #shuffling data 3 times, unified across partitions and classifiers\n"
   ]
  },
  {
   "cell_type": "code",
   "execution_count": 98,
   "metadata": {
    "scrolled": false
   },
   "outputs": [
    {
     "name": "stdout",
     "output_type": "stream",
     "text": [
      "train size is: 20\n",
      "kNN\n",
      "K6\n",
      "accuracy score: 0.80925\n",
      "K6\n",
      "accuracy score: 0.8165\n",
      "K7\n",
      "accuracy score: 0.80175\n",
      "avg train acc : 0.9292484958309831\n",
      "avg val acc: 0.8069999999999999\n",
      "avg test acc: 0.8091666666666667\n",
      "\n",
      "\n",
      "train size is: 20\n",
      "decision_tree\n",
      "accuracy score: 0.8105\n",
      "accuracy score: 0.796\n",
      "accuracy score: 0.805\n",
      "avg train acc : 0.9424993390614672\n",
      "avg val acc: 0.8046666666666668\n",
      "avg test acc: 0.8038333333333334\n",
      "\n",
      "\n",
      "train size is: 20\n",
      "svm\n"
     ]
    },
    {
     "name": "stderr",
     "output_type": "stream",
     "text": [
      "/Users/anonagupta/anaconda3/lib/python3.7/site-packages/sklearn/svm/base.py:922: ConvergenceWarning: Liblinear failed to converge, increase the number of iterations.\n",
      "  \"the number of iterations.\", ConvergenceWarning)\n"
     ]
    },
    {
     "name": "stdout",
     "output_type": "stream",
     "text": [
      "C1\n",
      "accuracy score: 0.8055\n",
      "C0.1\n",
      "accuracy score: 0.80775\n"
     ]
    },
    {
     "name": "stderr",
     "output_type": "stream",
     "text": [
      "/Users/anonagupta/anaconda3/lib/python3.7/site-packages/sklearn/svm/base.py:922: ConvergenceWarning: Liblinear failed to converge, increase the number of iterations.\n",
      "  \"the number of iterations.\", ConvergenceWarning)\n"
     ]
    },
    {
     "name": "stdout",
     "output_type": "stream",
     "text": [
      "C0.1\n",
      "accuracy score: 0.8015\n",
      "avg train acc : 0.8057514423199619\n",
      "avg val acc: 0.799\n",
      "avg test acc: 0.8049166666666666\n",
      "\n",
      "\n",
      "train size is: 20\n",
      "log\n",
      "accuracy score: 0.809\n",
      "accuracy score: 0.803\n",
      "accuracy score: 0.805\n",
      "avg train acc : 0.8179168662763535\n",
      "avg val acc: 0.8080000000000002\n",
      "avg test acc: 0.8056666666666668\n",
      "\n",
      "\n",
      "train size is: 50\n",
      "kNN\n",
      "K6\n",
      "accuracy score: 0.8084\n",
      "K6\n",
      "accuracy score: 0.8072\n",
      "K6\n",
      "accuracy score: 0.804\n",
      "avg train acc : 0.9101998017749504\n",
      "avg val acc: 0.8118666666666666\n",
      "avg test acc: 0.8065333333333333\n",
      "\n",
      "\n",
      "train size is: 50\n",
      "decision_tree\n",
      "accuracy score: 0.8028\n",
      "accuracy score: 0.8056\n",
      "accuracy score: 0.81\n",
      "avg train acc : 0.9265335710250594\n",
      "avg val acc: 0.8138666666666667\n",
      "avg test acc: 0.8061333333333334\n",
      "\n",
      "\n",
      "train size is: 50\n",
      "svm\n",
      "C0.01\n",
      "accuracy score: 0.7952\n",
      "C0.01\n",
      "accuracy score: 0.8052\n",
      "C0.01\n",
      "accuracy score: 0.8032\n",
      "avg train acc : 0.8076339179251462\n",
      "avg val acc: 0.8073333333333332\n",
      "avg test acc: 0.8012\n",
      "\n",
      "\n",
      "train size is: 50\n",
      "log\n",
      "accuracy score: 0.7984\n",
      "accuracy score: 0.8088\n",
      "accuracy score: 0.8076\n",
      "avg train acc : 0.8129999687333255\n",
      "avg val acc: 0.8113333333333334\n",
      "avg test acc: 0.8049333333333334\n",
      "\n",
      "\n",
      "train size is: 80\n",
      "kNN\n",
      "K6\n",
      "accuracy score: 0.812\n",
      "K6\n",
      "accuracy score: 0.814\n",
      "K6\n",
      "accuracy score: 0.807\n",
      "avg train acc : 0.8974790337239454\n",
      "avg val acc: 0.8113333333333334\n",
      "avg test acc: 0.8109999999999999\n",
      "\n",
      "\n",
      "train size is: 80\n",
      "decision_tree\n",
      "accuracy score: 0.818\n",
      "accuracy score: 0.827\n",
      "accuracy score: 0.805\n",
      "avg train acc : 0.9155205707193753\n",
      "avg val acc: 0.8169999999999998\n",
      "avg test acc: 0.8166666666666668\n",
      "\n",
      "\n",
      "train size is: 80\n",
      "svm\n",
      "C0.01\n",
      "accuracy score: 0.818\n",
      "C0.01\n",
      "accuracy score: 0.806\n",
      "C0.01\n",
      "accuracy score: 0.804\n",
      "avg train acc : 0.8043542917968872\n",
      "avg val acc: 0.8035833333333334\n",
      "avg test acc: 0.8093333333333333\n",
      "\n",
      "\n",
      "train size is: 80\n",
      "log\n",
      "accuracy score: 0.813\n",
      "accuracy score: 0.808\n",
      "accuracy score: 0.798\n",
      "avg train acc : 0.810145476822882\n",
      "avg val acc: 0.8080833333333334\n",
      "avg test acc: 0.8063333333333333\n",
      "\n",
      "\n",
      "         knn      tree       svm       log\n",
      "20  0.809167  0.803833  0.804917  0.805667\n",
      "50  0.806533  0.806133    0.8012  0.804933\n",
      "80     0.811  0.816667  0.809333  0.806333\n"
     ]
    }
   ],
   "source": [
    "get_results(dataset_list, 14, classifiers, partition_size[0], adult_avg)\n",
    "get_results(dataset_list, 14, classifiers, partition_size[1], adult_avg)\n",
    "get_results(dataset_list, 14, classifiers, partition_size[2], adult_avg)\n",
    "\n",
    "print(adult_avg)"
   ]
  },
  {
   "cell_type": "code",
   "execution_count": 99,
   "metadata": {},
   "outputs": [
    {
     "data": {
      "text/html": [
       "<div>\n",
       "<style scoped>\n",
       "    .dataframe tbody tr th:only-of-type {\n",
       "        vertical-align: middle;\n",
       "    }\n",
       "\n",
       "    .dataframe tbody tr th {\n",
       "        vertical-align: top;\n",
       "    }\n",
       "\n",
       "    .dataframe thead th {\n",
       "        text-align: right;\n",
       "    }\n",
       "</style>\n",
       "<table border=\"1\" class=\"dataframe\">\n",
       "  <thead>\n",
       "    <tr style=\"text-align: right;\">\n",
       "      <th></th>\n",
       "      <th>knn</th>\n",
       "      <th>tree</th>\n",
       "      <th>svm</th>\n",
       "      <th>log</th>\n",
       "    </tr>\n",
       "  </thead>\n",
       "  <tbody>\n",
       "    <tr>\n",
       "      <th>20</th>\n",
       "      <td>0.809167</td>\n",
       "      <td>0.803833</td>\n",
       "      <td>0.804917</td>\n",
       "      <td>0.805667</td>\n",
       "    </tr>\n",
       "    <tr>\n",
       "      <th>50</th>\n",
       "      <td>0.806533</td>\n",
       "      <td>0.806133</td>\n",
       "      <td>0.8012</td>\n",
       "      <td>0.804933</td>\n",
       "    </tr>\n",
       "    <tr>\n",
       "      <th>80</th>\n",
       "      <td>0.811</td>\n",
       "      <td>0.816667</td>\n",
       "      <td>0.809333</td>\n",
       "      <td>0.806333</td>\n",
       "    </tr>\n",
       "  </tbody>\n",
       "</table>\n",
       "</div>"
      ],
      "text/plain": [
       "         knn      tree       svm       log\n",
       "20  0.809167  0.803833  0.804917  0.805667\n",
       "50  0.806533  0.806133    0.8012  0.804933\n",
       "80     0.811  0.816667  0.809333  0.806333"
      ]
     },
     "execution_count": 99,
     "metadata": {},
     "output_type": "execute_result"
    }
   ],
   "source": [
    "adult_avg"
   ]
  },
  {
   "cell_type": "markdown",
   "metadata": {},
   "source": [
    "#### Mushroom "
   ]
  },
  {
   "cell_type": "code",
   "execution_count": 100,
   "metadata": {},
   "outputs": [],
   "source": [
    "classifiers = [kNN, decision_tree, svm, log] \n",
    "\n",
    "partition_size = [0.2, 0.5, 0.8]\n",
    "\n",
    "cols = ['knn', 'tree', 'svm', 'log']\n",
    "index = [20,50,80]\n",
    "\n",
    "mush_avg= pd.DataFrame(index=index, columns=cols)\n",
    "#accuracy_scores.iloc[0, 4] = 80\n",
    "\n",
    "dataset_list = shuffle(mush) #shuffling data 3 times, unified across partitions and classifiers"
   ]
  },
  {
   "cell_type": "code",
   "execution_count": 101,
   "metadata": {},
   "outputs": [
    {
     "name": "stdout",
     "output_type": "stream",
     "text": [
      "train size is: 20\n",
      "kNN\n",
      "K1\n",
      "accuracy score: 0.99675\n",
      "K2\n",
      "accuracy score: 0.99675\n",
      "K1\n",
      "accuracy score: 0.99475\n",
      "avg train acc : 1.0\n",
      "avg val acc: 0.9963333333333333\n",
      "avg test acc: 0.9960833333333333\n",
      "\n",
      "\n",
      "train size is: 20\n",
      "decision_tree\n",
      "accuracy score: 0.99875\n",
      "accuracy score: 0.99975\n",
      "accuracy score: 0.9995\n",
      "avg train acc : 1.0\n",
      "avg val acc: 0.9980000000000001\n",
      "avg test acc: 0.9993333333333334\n",
      "\n",
      "\n",
      "train size is: 20\n",
      "svm\n"
     ]
    },
    {
     "name": "stderr",
     "output_type": "stream",
     "text": [
      "/Users/anonagupta/anaconda3/lib/python3.7/site-packages/sklearn/svm/base.py:922: ConvergenceWarning: Liblinear failed to converge, increase the number of iterations.\n",
      "  \"the number of iterations.\", ConvergenceWarning)\n"
     ]
    },
    {
     "name": "stdout",
     "output_type": "stream",
     "text": [
      "C1\n",
      "accuracy score: 0.995\n"
     ]
    },
    {
     "name": "stderr",
     "output_type": "stream",
     "text": [
      "/Users/anonagupta/anaconda3/lib/python3.7/site-packages/sklearn/svm/base.py:922: ConvergenceWarning: Liblinear failed to converge, increase the number of iterations.\n",
      "  \"the number of iterations.\", ConvergenceWarning)\n"
     ]
    },
    {
     "name": "stdout",
     "output_type": "stream",
     "text": [
      "C1\n",
      "accuracy score: 0.99775\n"
     ]
    },
    {
     "name": "stderr",
     "output_type": "stream",
     "text": [
      "/Users/anonagupta/anaconda3/lib/python3.7/site-packages/sklearn/svm/base.py:922: ConvergenceWarning: Liblinear failed to converge, increase the number of iterations.\n",
      "  \"the number of iterations.\", ConvergenceWarning)\n"
     ]
    },
    {
     "name": "stdout",
     "output_type": "stream",
     "text": [
      "C1\n",
      "accuracy score: 0.995\n",
      "avg train acc : 0.9987502070315735\n",
      "avg val acc: 0.9980000000000001\n",
      "avg test acc: 0.9959166666666667\n",
      "\n",
      "\n",
      "train size is: 20\n",
      "log\n",
      "accuracy score: 0.997\n",
      "accuracy score: 0.9985\n",
      "accuracy score: 0.99525\n",
      "avg train acc : 0.999333540885741\n",
      "avg val acc: 0.9966666666666667\n",
      "avg test acc: 0.9969166666666668\n",
      "\n",
      "\n",
      "train size is: 50\n",
      "kNN\n",
      "K2\n",
      "accuracy score: 0.9972\n",
      "K1\n",
      "accuracy score: 0.9992\n",
      "K1\n",
      "accuracy score: 0.9984\n",
      "avg train acc : 1.0\n",
      "avg val acc: 0.9977333333333332\n",
      "avg test acc: 0.9982666666666665\n",
      "\n",
      "\n",
      "train size is: 50\n",
      "decision_tree\n",
      "accuracy score: 1.0\n",
      "accuracy score: 1.0\n",
      "accuracy score: 1.0\n",
      "avg train acc : 1.0\n",
      "avg val acc: 0.9996\n",
      "avg test acc: 1.0\n",
      "\n",
      "\n",
      "train size is: 50\n",
      "svm\n"
     ]
    },
    {
     "name": "stderr",
     "output_type": "stream",
     "text": [
      "/Users/anonagupta/anaconda3/lib/python3.7/site-packages/sklearn/svm/base.py:922: ConvergenceWarning: Liblinear failed to converge, increase the number of iterations.\n",
      "  \"the number of iterations.\", ConvergenceWarning)\n"
     ]
    },
    {
     "name": "stdout",
     "output_type": "stream",
     "text": [
      "C1\n",
      "accuracy score: 0.9984\n"
     ]
    },
    {
     "name": "stderr",
     "output_type": "stream",
     "text": [
      "/Users/anonagupta/anaconda3/lib/python3.7/site-packages/sklearn/svm/base.py:922: ConvergenceWarning: Liblinear failed to converge, increase the number of iterations.\n",
      "  \"the number of iterations.\", ConvergenceWarning)\n"
     ]
    },
    {
     "name": "stdout",
     "output_type": "stream",
     "text": [
      "C1\n",
      "accuracy score: 0.9992\n"
     ]
    },
    {
     "name": "stderr",
     "output_type": "stream",
     "text": [
      "/Users/anonagupta/anaconda3/lib/python3.7/site-packages/sklearn/svm/base.py:922: ConvergenceWarning: Liblinear failed to converge, increase the number of iterations.\n",
      "  \"the number of iterations.\", ConvergenceWarning)\n"
     ]
    },
    {
     "name": "stdout",
     "output_type": "stream",
     "text": [
      "C1\n",
      "accuracy score: 0.9972\n",
      "avg train acc : 0.9976666663833335\n",
      "avg val acc: 0.9969333333333333\n",
      "avg test acc: 0.9982666666666665\n",
      "\n",
      "\n",
      "train size is: 50\n",
      "log\n",
      "accuracy score: 0.9984\n",
      "accuracy score: 0.9988\n",
      "accuracy score: 0.9976\n",
      "avg train acc : 0.9982999830916626\n",
      "avg val acc: 0.9978666666666666\n",
      "avg test acc: 0.9982666666666665\n",
      "\n",
      "\n",
      "train size is: 80\n",
      "kNN\n",
      "K1\n",
      "accuracy score: 1.0\n",
      "K1\n",
      "accuracy score: 1.0\n",
      "K1\n",
      "accuracy score: 1.0\n",
      "avg train acc : 1.0\n",
      "avg val acc: 0.9985833333333334\n",
      "avg test acc: 1.0\n",
      "\n",
      "\n",
      "train size is: 80\n",
      "decision_tree\n",
      "accuracy score: 1.0\n",
      "accuracy score: 0.999\n",
      "accuracy score: 1.0\n",
      "avg train acc : 1.0\n",
      "avg val acc: 1.0\n",
      "avg test acc: 0.9996666666666667\n",
      "\n",
      "\n",
      "train size is: 80\n",
      "svm\n",
      "C1\n",
      "accuracy score: 0.999\n"
     ]
    },
    {
     "name": "stderr",
     "output_type": "stream",
     "text": [
      "/Users/anonagupta/anaconda3/lib/python3.7/site-packages/sklearn/svm/base.py:922: ConvergenceWarning: Liblinear failed to converge, increase the number of iterations.\n",
      "  \"the number of iterations.\", ConvergenceWarning)\n"
     ]
    },
    {
     "name": "stdout",
     "output_type": "stream",
     "text": [
      "C1\n",
      "accuracy score: 1.0\n"
     ]
    },
    {
     "name": "stderr",
     "output_type": "stream",
     "text": [
      "/Users/anonagupta/anaconda3/lib/python3.7/site-packages/sklearn/svm/base.py:922: ConvergenceWarning: Liblinear failed to converge, increase the number of iterations.\n",
      "  \"the number of iterations.\", ConvergenceWarning)\n"
     ]
    },
    {
     "name": "stdout",
     "output_type": "stream",
     "text": [
      "C1\n",
      "accuracy score: 0.998\n",
      "avg train acc : 0.9980416665934245\n",
      "avg val acc: 0.9977499999999999\n",
      "avg test acc: 0.999\n",
      "\n",
      "\n",
      "train size is: 80\n",
      "log\n",
      "accuracy score: 1.0\n",
      "accuracy score: 0.999\n",
      "accuracy score: 0.998\n",
      "avg train acc : 0.9984374999389649\n",
      "avg val acc: 0.9981666666666666\n",
      "avg test acc: 0.999\n",
      "\n",
      "\n",
      "         knn      tree       svm       log\n",
      "20  0.996083  0.999333  0.995917  0.996917\n",
      "50  0.998267         1  0.998267  0.998267\n",
      "80         1  0.999667     0.999     0.999\n"
     ]
    }
   ],
   "source": [
    "get_results(dataset_list, 22, classifiers, partition_size[0], mush_avg)\n",
    "get_results(dataset_list, 22, classifiers, partition_size[1], mush_avg)\n",
    "get_results(dataset_list, 22, classifiers, partition_size[2], mush_avg)\n",
    "\n",
    "print(mush_avg)"
   ]
  },
  {
   "cell_type": "markdown",
   "metadata": {},
   "source": [
    "#### Parkinson's"
   ]
  },
  {
   "cell_type": "code",
   "execution_count": 85,
   "metadata": {},
   "outputs": [],
   "source": [
    "classifiers = [kNN, decision_tree, svm, log] \n",
    "\n",
    "partition_size = [0.2, 0.5, 0.8]\n",
    "\n",
    "cols = ['knn', 'tree', 'svm', 'log']\n",
    "index = [20,50,80]\n",
    "\n",
    "park_avg= pd.DataFrame(index=index, columns=cols)\n",
    "\n",
    "dataset_list = shuffle(park) #shuffling data 3 times, unified across partitions and classifiers"
   ]
  },
  {
   "cell_type": "code",
   "execution_count": 87,
   "metadata": {},
   "outputs": [
    {
     "name": "stdout",
     "output_type": "stream",
     "text": [
      "train size is: 20\n",
      "kNN\n",
      "K5\n",
      "accuracy score: 0.7243589743589743\n"
     ]
    },
    {
     "name": "stderr",
     "output_type": "stream",
     "text": [
      "/Users/anonagupta/anaconda3/lib/python3.7/site-packages/sklearn/model_selection/_search.py:841: DeprecationWarning: The default of the `iid` parameter will change from True to False in version 0.22 and will be removed in 0.24. This will change numeric results when test-set sizes are unequal.\n",
      "  DeprecationWarning)\n",
      "/Users/anonagupta/anaconda3/lib/python3.7/site-packages/sklearn/model_selection/_search.py:841: DeprecationWarning: The default of the `iid` parameter will change from True to False in version 0.22 and will be removed in 0.24. This will change numeric results when test-set sizes are unequal.\n",
      "  DeprecationWarning)\n"
     ]
    },
    {
     "name": "stdout",
     "output_type": "stream",
     "text": [
      "K5\n",
      "accuracy score: 0.8461538461538461\n",
      "K1\n",
      "accuracy score: 0.8076923076923077\n",
      "avg train acc : 0.9850089605734768\n",
      "avg val acc: 0.8376068376068376\n",
      "avg test acc: 0.7927350427350427\n",
      "\n",
      "\n",
      "train size is: 20\n",
      "decision_tree\n"
     ]
    },
    {
     "name": "stderr",
     "output_type": "stream",
     "text": [
      "/Users/anonagupta/anaconda3/lib/python3.7/site-packages/sklearn/model_selection/_search.py:841: DeprecationWarning: The default of the `iid` parameter will change from True to False in version 0.22 and will be removed in 0.24. This will change numeric results when test-set sizes are unequal.\n",
      "  DeprecationWarning)\n",
      "/Users/anonagupta/anaconda3/lib/python3.7/site-packages/sklearn/model_selection/_search.py:841: DeprecationWarning: The default of the `iid` parameter will change from True to False in version 0.22 and will be removed in 0.24. This will change numeric results when test-set sizes are unequal.\n",
      "  DeprecationWarning)\n",
      "/Users/anonagupta/anaconda3/lib/python3.7/site-packages/sklearn/model_selection/_search.py:841: DeprecationWarning: The default of the `iid` parameter will change from True to False in version 0.22 and will be removed in 0.24. This will change numeric results when test-set sizes are unequal.\n",
      "  DeprecationWarning)\n",
      "/Users/anonagupta/anaconda3/lib/python3.7/site-packages/sklearn/model_selection/_search.py:841: DeprecationWarning: The default of the `iid` parameter will change from True to False in version 0.22 and will be removed in 0.24. This will change numeric results when test-set sizes are unequal.\n",
      "  DeprecationWarning)\n"
     ]
    },
    {
     "name": "stdout",
     "output_type": "stream",
     "text": [
      "accuracy score: 0.8076923076923077\n",
      "accuracy score: 0.8141025641025641\n",
      "accuracy score: 0.8589743589743589\n",
      "avg train acc : 0.9850089605734768\n",
      "avg val acc: 0.7777777777777778\n",
      "avg test acc: 0.826923076923077\n",
      "\n",
      "\n",
      "train size is: 20\n",
      "svm\n"
     ]
    },
    {
     "name": "stderr",
     "output_type": "stream",
     "text": [
      "/Users/anonagupta/anaconda3/lib/python3.7/site-packages/sklearn/model_selection/_search.py:841: DeprecationWarning: The default of the `iid` parameter will change from True to False in version 0.22 and will be removed in 0.24. This will change numeric results when test-set sizes are unequal.\n",
      "  DeprecationWarning)\n",
      "/Users/anonagupta/anaconda3/lib/python3.7/site-packages/sklearn/model_selection/_search.py:841: DeprecationWarning: The default of the `iid` parameter will change from True to False in version 0.22 and will be removed in 0.24. This will change numeric results when test-set sizes are unequal.\n",
      "  DeprecationWarning)\n"
     ]
    },
    {
     "name": "stdout",
     "output_type": "stream",
     "text": [
      "C0.1\n",
      "accuracy score: 0.7243589743589743\n",
      "C0.1\n",
      "accuracy score: 0.8461538461538461\n"
     ]
    },
    {
     "name": "stderr",
     "output_type": "stream",
     "text": [
      "/Users/anonagupta/anaconda3/lib/python3.7/site-packages/sklearn/model_selection/_search.py:841: DeprecationWarning: The default of the `iid` parameter will change from True to False in version 0.22 and will be removed in 0.24. This will change numeric results when test-set sizes are unequal.\n",
      "  DeprecationWarning)\n",
      "/Users/anonagupta/anaconda3/lib/python3.7/site-packages/sklearn/model_selection/_search.py:841: DeprecationWarning: The default of the `iid` parameter will change from True to False in version 0.22 and will be removed in 0.24. This will change numeric results when test-set sizes are unequal.\n",
      "  DeprecationWarning)\n"
     ]
    },
    {
     "name": "stdout",
     "output_type": "stream",
     "text": [
      "C0.0001\n",
      "accuracy score: 0.8525641025641025\n",
      "avg train acc : 0.925179211469534\n",
      "avg val acc: 0.8205128205128206\n",
      "avg test acc: 0.8076923076923076\n",
      "\n",
      "\n",
      "train size is: 20\n",
      "log\n",
      "accuracy score: 0.7948717948717948\n",
      "accuracy score: 0.8525641025641025\n"
     ]
    },
    {
     "name": "stderr",
     "output_type": "stream",
     "text": [
      "/Users/anonagupta/anaconda3/lib/python3.7/site-packages/sklearn/model_selection/_search.py:841: DeprecationWarning: The default of the `iid` parameter will change from True to False in version 0.22 and will be removed in 0.24. This will change numeric results when test-set sizes are unequal.\n",
      "  DeprecationWarning)\n",
      "/Users/anonagupta/anaconda3/lib/python3.7/site-packages/sklearn/model_selection/_search.py:841: DeprecationWarning: The default of the `iid` parameter will change from True to False in version 0.22 and will be removed in 0.24. This will change numeric results when test-set sizes are unequal.\n",
      "  DeprecationWarning)\n"
     ]
    },
    {
     "name": "stdout",
     "output_type": "stream",
     "text": [
      "accuracy score: 0.8525641025641025\n",
      "avg train acc : 0.940165770609319\n",
      "avg val acc: 0.8205128205128206\n",
      "avg test acc: 0.8333333333333334\n",
      "\n",
      "\n",
      "train size is: 50\n",
      "kNN\n"
     ]
    },
    {
     "name": "stderr",
     "output_type": "stream",
     "text": [
      "/Users/anonagupta/anaconda3/lib/python3.7/site-packages/sklearn/model_selection/_search.py:841: DeprecationWarning: The default of the `iid` parameter will change from True to False in version 0.22 and will be removed in 0.24. This will change numeric results when test-set sizes are unequal.\n",
      "  DeprecationWarning)\n"
     ]
    },
    {
     "name": "stdout",
     "output_type": "stream",
     "text": [
      "K3\n",
      "accuracy score: 0.8367346938775511\n"
     ]
    },
    {
     "name": "stderr",
     "output_type": "stream",
     "text": [
      "/Users/anonagupta/anaconda3/lib/python3.7/site-packages/sklearn/model_selection/_search.py:841: DeprecationWarning: The default of the `iid` parameter will change from True to False in version 0.22 and will be removed in 0.24. This will change numeric results when test-set sizes are unequal.\n",
      "  DeprecationWarning)\n"
     ]
    },
    {
     "name": "stdout",
     "output_type": "stream",
     "text": [
      "K1\n",
      "accuracy score: 0.7040816326530612\n"
     ]
    },
    {
     "name": "stderr",
     "output_type": "stream",
     "text": [
      "/Users/anonagupta/anaconda3/lib/python3.7/site-packages/sklearn/model_selection/_search.py:841: DeprecationWarning: The default of the `iid` parameter will change from True to False in version 0.22 and will be removed in 0.24. This will change numeric results when test-set sizes are unequal.\n",
      "  DeprecationWarning)\n",
      "/Users/anonagupta/anaconda3/lib/python3.7/site-packages/sklearn/model_selection/_search.py:841: DeprecationWarning: The default of the `iid` parameter will change from True to False in version 0.22 and will be removed in 0.24. This will change numeric results when test-set sizes are unequal.\n",
      "  DeprecationWarning)\n",
      "/Users/anonagupta/anaconda3/lib/python3.7/site-packages/sklearn/model_selection/_search.py:841: DeprecationWarning: The default of the `iid` parameter will change from True to False in version 0.22 and will be removed in 0.24. This will change numeric results when test-set sizes are unequal.\n",
      "  DeprecationWarning)\n"
     ]
    },
    {
     "name": "stdout",
     "output_type": "stream",
     "text": [
      "K3\n",
      "accuracy score: 0.826530612244898\n",
      "avg train acc : 0.9587164741395254\n",
      "avg val acc: 0.8213058419243987\n",
      "avg test acc: 0.7891156462585034\n",
      "\n",
      "\n",
      "train size is: 50\n",
      "decision_tree\n",
      "accuracy score: 0.8367346938775511\n",
      "accuracy score: 0.826530612244898\n"
     ]
    },
    {
     "name": "stderr",
     "output_type": "stream",
     "text": [
      "/Users/anonagupta/anaconda3/lib/python3.7/site-packages/sklearn/model_selection/_search.py:841: DeprecationWarning: The default of the `iid` parameter will change from True to False in version 0.22 and will be removed in 0.24. This will change numeric results when test-set sizes are unequal.\n",
      "  DeprecationWarning)\n"
     ]
    },
    {
     "name": "stdout",
     "output_type": "stream",
     "text": [
      "accuracy score: 0.9081632653061225\n",
      "avg train acc : 0.971637763376604\n",
      "avg val acc: 0.8144329896907218\n",
      "avg test acc: 0.8571428571428572\n",
      "\n",
      "\n",
      "train size is: 50\n",
      "svm\n"
     ]
    },
    {
     "name": "stderr",
     "output_type": "stream",
     "text": [
      "/Users/anonagupta/anaconda3/lib/python3.7/site-packages/sklearn/model_selection/_search.py:841: DeprecationWarning: The default of the `iid` parameter will change from True to False in version 0.22 and will be removed in 0.24. This will change numeric results when test-set sizes are unequal.\n",
      "  DeprecationWarning)\n",
      "/Users/anonagupta/anaconda3/lib/python3.7/site-packages/sklearn/model_selection/_search.py:841: DeprecationWarning: The default of the `iid` parameter will change from True to False in version 0.22 and will be removed in 0.24. This will change numeric results when test-set sizes are unequal.\n",
      "  DeprecationWarning)\n"
     ]
    },
    {
     "name": "stdout",
     "output_type": "stream",
     "text": [
      "C0.1\n",
      "accuracy score: 0.826530612244898\n",
      "C0.1\n",
      "accuracy score: 0.8469387755102041\n"
     ]
    },
    {
     "name": "stderr",
     "output_type": "stream",
     "text": [
      "/Users/anonagupta/anaconda3/lib/python3.7/site-packages/sklearn/model_selection/_search.py:841: DeprecationWarning: The default of the `iid` parameter will change from True to False in version 0.22 and will be removed in 0.24. This will change numeric results when test-set sizes are unequal.\n",
      "  DeprecationWarning)\n",
      "/Users/anonagupta/anaconda3/lib/python3.7/site-packages/sklearn/model_selection/_search.py:841: DeprecationWarning: The default of the `iid` parameter will change from True to False in version 0.22 and will be removed in 0.24. This will change numeric results when test-set sizes are unequal.\n",
      "  DeprecationWarning)\n",
      "/Users/anonagupta/anaconda3/lib/python3.7/site-packages/sklearn/model_selection/_search.py:841: DeprecationWarning: The default of the `iid` parameter will change from True to False in version 0.22 and will be removed in 0.24. This will change numeric results when test-set sizes are unequal.\n",
      "  DeprecationWarning)\n"
     ]
    },
    {
     "name": "stdout",
     "output_type": "stream",
     "text": [
      "C0.01\n",
      "accuracy score: 0.8469387755102041\n",
      "avg train acc : 0.8917680254455737\n",
      "avg val acc: 0.8350515463917526\n",
      "avg test acc: 0.8401360544217688\n",
      "\n",
      "\n",
      "train size is: 50\n",
      "log\n",
      "accuracy score: 0.8061224489795918\n",
      "accuracy score: 0.8469387755102041\n"
     ]
    },
    {
     "name": "stderr",
     "output_type": "stream",
     "text": [
      "/Users/anonagupta/anaconda3/lib/python3.7/site-packages/sklearn/model_selection/_search.py:841: DeprecationWarning: The default of the `iid` parameter will change from True to False in version 0.22 and will be removed in 0.24. This will change numeric results when test-set sizes are unequal.\n",
      "  DeprecationWarning)\n"
     ]
    },
    {
     "name": "stdout",
     "output_type": "stream",
     "text": [
      "accuracy score: 0.8877551020408163\n",
      "avg train acc : 0.9046337924419202\n",
      "avg val acc: 0.8281786941580757\n",
      "avg test acc: 0.8469387755102041\n",
      "\n",
      "\n",
      "train size is: 80\n",
      "kNN\n"
     ]
    },
    {
     "name": "stderr",
     "output_type": "stream",
     "text": [
      "/Users/anonagupta/anaconda3/lib/python3.7/site-packages/sklearn/model_selection/_search.py:841: DeprecationWarning: The default of the `iid` parameter will change from True to False in version 0.22 and will be removed in 0.24. This will change numeric results when test-set sizes are unequal.\n",
      "  DeprecationWarning)\n"
     ]
    },
    {
     "name": "stdout",
     "output_type": "stream",
     "text": [
      "K3\n",
      "accuracy score: 0.8205128205128205\n"
     ]
    },
    {
     "name": "stderr",
     "output_type": "stream",
     "text": [
      "/Users/anonagupta/anaconda3/lib/python3.7/site-packages/sklearn/model_selection/_search.py:841: DeprecationWarning: The default of the `iid` parameter will change from True to False in version 0.22 and will be removed in 0.24. This will change numeric results when test-set sizes are unequal.\n",
      "  DeprecationWarning)\n",
      "/Users/anonagupta/anaconda3/lib/python3.7/site-packages/sklearn/model_selection/_search.py:841: DeprecationWarning: The default of the `iid` parameter will change from True to False in version 0.22 and will be removed in 0.24. This will change numeric results when test-set sizes are unequal.\n",
      "  DeprecationWarning)\n"
     ]
    },
    {
     "name": "stdout",
     "output_type": "stream",
     "text": [
      "K7\n",
      "accuracy score: 0.8974358974358975\n",
      "K7\n",
      "accuracy score: 0.8717948717948718\n",
      "avg train acc : 0.9556682710360128\n",
      "avg val acc: 0.8354700854700855\n",
      "avg test acc: 0.8632478632478633\n",
      "\n",
      "\n",
      "train size is: 80\n",
      "decision_tree\n"
     ]
    },
    {
     "name": "stderr",
     "output_type": "stream",
     "text": [
      "/Users/anonagupta/anaconda3/lib/python3.7/site-packages/sklearn/model_selection/_search.py:841: DeprecationWarning: The default of the `iid` parameter will change from True to False in version 0.22 and will be removed in 0.24. This will change numeric results when test-set sizes are unequal.\n",
      "  DeprecationWarning)\n",
      "/Users/anonagupta/anaconda3/lib/python3.7/site-packages/sklearn/model_selection/_search.py:841: DeprecationWarning: The default of the `iid` parameter will change from True to False in version 0.22 and will be removed in 0.24. This will change numeric results when test-set sizes are unequal.\n",
      "  DeprecationWarning)\n",
      "/Users/anonagupta/anaconda3/lib/python3.7/site-packages/sklearn/model_selection/_search.py:841: DeprecationWarning: The default of the `iid` parameter will change from True to False in version 0.22 and will be removed in 0.24. This will change numeric results when test-set sizes are unequal.\n",
      "  DeprecationWarning)\n"
     ]
    },
    {
     "name": "stdout",
     "output_type": "stream",
     "text": [
      "accuracy score: 0.8205128205128205\n",
      "accuracy score: 0.8974358974358975\n",
      "accuracy score: 0.9230769230769231\n",
      "avg train acc : 0.9674275473630312\n",
      "avg val acc: 0.8611111111111112\n",
      "avg test acc: 0.8803418803418804\n",
      "\n",
      "\n",
      "train size is: 80\n",
      "svm\n"
     ]
    },
    {
     "name": "stderr",
     "output_type": "stream",
     "text": [
      "/Users/anonagupta/anaconda3/lib/python3.7/site-packages/sklearn/model_selection/_search.py:841: DeprecationWarning: The default of the `iid` parameter will change from True to False in version 0.22 and will be removed in 0.24. This will change numeric results when test-set sizes are unequal.\n",
      "  DeprecationWarning)\n",
      "/Users/anonagupta/anaconda3/lib/python3.7/site-packages/sklearn/model_selection/_search.py:841: DeprecationWarning: The default of the `iid` parameter will change from True to False in version 0.22 and will be removed in 0.24. This will change numeric results when test-set sizes are unequal.\n",
      "  DeprecationWarning)\n"
     ]
    },
    {
     "name": "stdout",
     "output_type": "stream",
     "text": [
      "C0.1\n",
      "accuracy score: 0.8205128205128205\n",
      "C0.1\n",
      "accuracy score: 0.8974358974358975\n"
     ]
    },
    {
     "name": "stderr",
     "output_type": "stream",
     "text": [
      "/Users/anonagupta/anaconda3/lib/python3.7/site-packages/sklearn/model_selection/_search.py:841: DeprecationWarning: The default of the `iid` parameter will change from True to False in version 0.22 and will be removed in 0.24. This will change numeric results when test-set sizes are unequal.\n",
      "  DeprecationWarning)\n",
      "/Users/anonagupta/anaconda3/lib/python3.7/site-packages/sklearn/model_selection/_search.py:841: DeprecationWarning: The default of the `iid` parameter will change from True to False in version 0.22 and will be removed in 0.24. This will change numeric results when test-set sizes are unequal.\n",
      "  DeprecationWarning)\n"
     ]
    },
    {
     "name": "stdout",
     "output_type": "stream",
     "text": [
      "C0.01\n",
      "accuracy score: 0.8461538461538461\n",
      "avg train acc : 0.8760633555214201\n",
      "avg val acc: 0.8461538461538461\n",
      "avg test acc: 0.8547008547008548\n",
      "\n",
      "\n",
      "train size is: 80\n",
      "log\n",
      "accuracy score: 0.8461538461538461\n"
     ]
    },
    {
     "name": "stderr",
     "output_type": "stream",
     "text": [
      "/Users/anonagupta/anaconda3/lib/python3.7/site-packages/sklearn/model_selection/_search.py:841: DeprecationWarning: The default of the `iid` parameter will change from True to False in version 0.22 and will be removed in 0.24. This will change numeric results when test-set sizes are unequal.\n",
      "  DeprecationWarning)\n"
     ]
    },
    {
     "name": "stdout",
     "output_type": "stream",
     "text": [
      "accuracy score: 0.9230769230769231\n",
      "accuracy score: 0.8461538461538461\n",
      "avg train acc : 0.8776804915514593\n",
      "avg val acc: 0.8461538461538461\n",
      "avg test acc: 0.8717948717948718\n",
      "\n",
      "\n"
     ]
    },
    {
     "name": "stderr",
     "output_type": "stream",
     "text": [
      "/Users/anonagupta/anaconda3/lib/python3.7/site-packages/sklearn/model_selection/_search.py:841: DeprecationWarning: The default of the `iid` parameter will change from True to False in version 0.22 and will be removed in 0.24. This will change numeric results when test-set sizes are unequal.\n",
      "  DeprecationWarning)\n"
     ]
    },
    {
     "data": {
      "text/html": [
       "<div>\n",
       "<style scoped>\n",
       "    .dataframe tbody tr th:only-of-type {\n",
       "        vertical-align: middle;\n",
       "    }\n",
       "\n",
       "    .dataframe tbody tr th {\n",
       "        vertical-align: top;\n",
       "    }\n",
       "\n",
       "    .dataframe thead th {\n",
       "        text-align: right;\n",
       "    }\n",
       "</style>\n",
       "<table border=\"1\" class=\"dataframe\">\n",
       "  <thead>\n",
       "    <tr style=\"text-align: right;\">\n",
       "      <th></th>\n",
       "      <th>knn</th>\n",
       "      <th>tree</th>\n",
       "      <th>svm</th>\n",
       "      <th>log</th>\n",
       "    </tr>\n",
       "  </thead>\n",
       "  <tbody>\n",
       "    <tr>\n",
       "      <th>20</th>\n",
       "      <td>0.792735</td>\n",
       "      <td>0.826923</td>\n",
       "      <td>0.807692</td>\n",
       "      <td>0.833333</td>\n",
       "    </tr>\n",
       "    <tr>\n",
       "      <th>50</th>\n",
       "      <td>0.789116</td>\n",
       "      <td>0.857143</td>\n",
       "      <td>0.840136</td>\n",
       "      <td>0.846939</td>\n",
       "    </tr>\n",
       "    <tr>\n",
       "      <th>80</th>\n",
       "      <td>0.863248</td>\n",
       "      <td>0.880342</td>\n",
       "      <td>0.854701</td>\n",
       "      <td>0.871795</td>\n",
       "    </tr>\n",
       "  </tbody>\n",
       "</table>\n",
       "</div>"
      ],
      "text/plain": [
       "         knn      tree       svm       log\n",
       "20  0.792735  0.826923  0.807692  0.833333\n",
       "50  0.789116  0.857143  0.840136  0.846939\n",
       "80  0.863248  0.880342  0.854701  0.871795"
      ]
     },
     "execution_count": 87,
     "metadata": {},
     "output_type": "execute_result"
    }
   ],
   "source": [
    "get_results(dataset_list, 22, classifiers, partition_size[0], park_avg)\n",
    "get_results(dataset_list, 22, classifiers, partition_size[1], park_avg)\n",
    "get_results(dataset_list, 22, classifiers, partition_size[2], park_avg)"
   ]
  },
  {
   "cell_type": "markdown",
   "metadata": {},
   "source": [
    "##### Running Random Forest Classifier separately. It was taking a very long time to run"
   ]
  },
  {
   "cell_type": "code",
   "execution_count": 104,
   "metadata": {},
   "outputs": [
    {
     "name": "stdout",
     "output_type": "stream",
     "text": [
      "train size is: 20\n",
      "forest\n",
      "accuracy score: 0.99975\n",
      "accuracy score: 1.0\n",
      "accuracy score: 0.999\n",
      "avg train acc : 1.0\n",
      "avg val acc: 0.9993333333333334\n",
      "avg test acc: 0.9995833333333334\n",
      "\n",
      "\n",
      "train size is: 50\n",
      "forest\n",
      "accuracy score: 0.9996\n",
      "accuracy score: 1.0\n",
      "accuracy score: 0.9996\n",
      "avg train acc : 1.0\n",
      "avg val acc: 0.9996\n",
      "avg test acc: 0.9997333333333334\n",
      "\n",
      "\n",
      "train size is: 80\n",
      "forest\n",
      "accuracy score: 1.0\n",
      "accuracy score: 1.0\n",
      "accuracy score: 0.999\n",
      "avg train acc : 1.0\n",
      "avg val acc: 0.9999166666666667\n",
      "avg test acc: 0.9996666666666667\n",
      "\n",
      "\n",
      "      forest\n",
      "20  0.999583\n",
      "50  0.999733\n",
      "80  0.999667\n"
     ]
    }
   ],
   "source": [
    "#'max_features': [1,2,4,6,8,12,16,20] tested\n",
    "#mush\n",
    "\n",
    "partition_size = [0.2, 0.5, 0.8]\n",
    "cols = ['forest']\n",
    "index = [20,50,80]\n",
    "\n",
    "mush_avg_rf= pd.DataFrame(index=index, columns=cols)\n",
    "\n",
    "dataset_list = shuffle(mush) \n",
    "get_results(dataset_list, 22, [forest], partition_size[0], mush_avg_rf)\n",
    "get_results(dataset_list, 22, [forest], partition_size[1], mush_avg_rf)\n",
    "get_results(dataset_list, 22, [forest], partition_size[2], mush_avg_rf)\n",
    "\n",
    "print(mush_avg_rf)"
   ]
  },
  {
   "cell_type": "code",
   "execution_count": 91,
   "metadata": {},
   "outputs": [
    {
     "name": "stdout",
     "output_type": "stream",
     "text": [
      "train size is: 20\n",
      "forest\n"
     ]
    },
    {
     "name": "stderr",
     "output_type": "stream",
     "text": [
      "/Users/anonagupta/anaconda3/lib/python3.7/site-packages/sklearn/model_selection/_search.py:841: DeprecationWarning: The default of the `iid` parameter will change from True to False in version 0.22 and will be removed in 0.24. This will change numeric results when test-set sizes are unequal.\n",
      "  DeprecationWarning)\n"
     ]
    },
    {
     "name": "stdout",
     "output_type": "stream",
     "text": [
      "accuracy score: 0.8269230769230769\n"
     ]
    },
    {
     "name": "stderr",
     "output_type": "stream",
     "text": [
      "/Users/anonagupta/anaconda3/lib/python3.7/site-packages/sklearn/model_selection/_search.py:841: DeprecationWarning: The default of the `iid` parameter will change from True to False in version 0.22 and will be removed in 0.24. This will change numeric results when test-set sizes are unequal.\n",
      "  DeprecationWarning)\n"
     ]
    },
    {
     "name": "stdout",
     "output_type": "stream",
     "text": [
      "accuracy score: 0.8397435897435898\n"
     ]
    },
    {
     "name": "stderr",
     "output_type": "stream",
     "text": [
      "/Users/anonagupta/anaconda3/lib/python3.7/site-packages/sklearn/model_selection/_search.py:841: DeprecationWarning: The default of the `iid` parameter will change from True to False in version 0.22 and will be removed in 0.24. This will change numeric results when test-set sizes are unequal.\n",
      "  DeprecationWarning)\n"
     ]
    },
    {
     "name": "stdout",
     "output_type": "stream",
     "text": [
      "accuracy score: 0.8397435897435898\n",
      "avg train acc : 0.966057347670251\n",
      "avg val acc: 0.8376068376068376\n",
      "avg test acc: 0.8354700854700855\n",
      "\n",
      "\n",
      "train size is: 50\n",
      "forest\n"
     ]
    },
    {
     "name": "stderr",
     "output_type": "stream",
     "text": [
      "/Users/anonagupta/anaconda3/lib/python3.7/site-packages/sklearn/model_selection/_search.py:841: DeprecationWarning: The default of the `iid` parameter will change from True to False in version 0.22 and will be removed in 0.24. This will change numeric results when test-set sizes are unequal.\n",
      "  DeprecationWarning)\n"
     ]
    },
    {
     "name": "stdout",
     "output_type": "stream",
     "text": [
      "accuracy score: 0.8367346938775511\n"
     ]
    },
    {
     "name": "stderr",
     "output_type": "stream",
     "text": [
      "/Users/anonagupta/anaconda3/lib/python3.7/site-packages/sklearn/model_selection/_search.py:841: DeprecationWarning: The default of the `iid` parameter will change from True to False in version 0.22 and will be removed in 0.24. This will change numeric results when test-set sizes are unequal.\n",
      "  DeprecationWarning)\n"
     ]
    },
    {
     "name": "stdout",
     "output_type": "stream",
     "text": [
      "accuracy score: 0.826530612244898\n"
     ]
    },
    {
     "name": "stderr",
     "output_type": "stream",
     "text": [
      "/Users/anonagupta/anaconda3/lib/python3.7/site-packages/sklearn/model_selection/_search.py:841: DeprecationWarning: The default of the `iid` parameter will change from True to False in version 0.22 and will be removed in 0.24. This will change numeric results when test-set sizes are unequal.\n",
      "  DeprecationWarning)\n"
     ]
    },
    {
     "name": "stdout",
     "output_type": "stream",
     "text": [
      "accuracy score: 0.8979591836734694\n",
      "avg train acc : 0.9665434314001935\n",
      "avg val acc: 0.8591065292096219\n",
      "avg test acc: 0.8537414965986395\n",
      "\n",
      "\n",
      "train size is: 80\n",
      "forest\n"
     ]
    },
    {
     "name": "stderr",
     "output_type": "stream",
     "text": [
      "/Users/anonagupta/anaconda3/lib/python3.7/site-packages/sklearn/model_selection/_search.py:841: DeprecationWarning: The default of the `iid` parameter will change from True to False in version 0.22 and will be removed in 0.24. This will change numeric results when test-set sizes are unequal.\n",
      "  DeprecationWarning)\n"
     ]
    },
    {
     "name": "stdout",
     "output_type": "stream",
     "text": [
      "accuracy score: 0.7948717948717948\n"
     ]
    },
    {
     "name": "stderr",
     "output_type": "stream",
     "text": [
      "/Users/anonagupta/anaconda3/lib/python3.7/site-packages/sklearn/model_selection/_search.py:841: DeprecationWarning: The default of the `iid` parameter will change from True to False in version 0.22 and will be removed in 0.24. This will change numeric results when test-set sizes are unequal.\n",
      "  DeprecationWarning)\n"
     ]
    },
    {
     "name": "stdout",
     "output_type": "stream",
     "text": [
      "accuracy score: 0.7692307692307693\n"
     ]
    },
    {
     "name": "stderr",
     "output_type": "stream",
     "text": [
      "/Users/anonagupta/anaconda3/lib/python3.7/site-packages/sklearn/model_selection/_search.py:841: DeprecationWarning: The default of the `iid` parameter will change from True to False in version 0.22 and will be removed in 0.24. This will change numeric results when test-set sizes are unequal.\n",
      "  DeprecationWarning)\n"
     ]
    },
    {
     "name": "stdout",
     "output_type": "stream",
     "text": [
      "accuracy score: 0.8974358974358975\n",
      "avg train acc : 0.9717069807134323\n",
      "avg val acc: 0.8782051282051282\n",
      "avg test acc: 0.8205128205128206\n",
      "\n",
      "\n",
      "      forest\n",
      "20   0.83547\n",
      "50  0.853741\n",
      "80  0.820513\n"
     ]
    }
   ],
   "source": [
    "#'max_features': [1,2,4,6,8,12,16,20] tested\n",
    "#park\n",
    "\n",
    "partition_size = [0.2, 0.5, 0.8]\n",
    "cols = ['forest']\n",
    "index = [20,50,80]\n",
    "\n",
    "park_avg_rf= pd.DataFrame(index=index, columns=cols)\n",
    "\n",
    "dataset_list = shuffle(park) \n",
    "get_results(dataset_list, 22, [forest], partition_size[0], park_avg_rf)\n",
    "get_results(dataset_list, 22, [forest], partition_size[1], park_avg_rf)\n",
    "get_results(dataset_list, 22, [forest], partition_size[2], park_avg_rf)\n",
    "\n",
    "print(park_avg_rf)"
   ]
  },
  {
   "cell_type": "code",
   "execution_count": 94,
   "metadata": {},
   "outputs": [
    {
     "name": "stdout",
     "output_type": "stream",
     "text": [
      "train size is: 20\n",
      "forest\n",
      "accuracy score: 0.81425\n",
      "accuracy score: 0.80125\n",
      "accuracy score: 0.7915\n",
      "avg train acc : 0.9383325498685675\n",
      "avg val acc: 0.805\n",
      "avg test acc: 0.8023333333333333\n",
      "\n",
      "\n",
      "train size is: 50\n",
      "forest\n",
      "accuracy score: 0.8088\n",
      "accuracy score: 0.8064\n",
      "accuracy score: 0.8036\n",
      "avg train acc : 0.9248998114249529\n",
      "avg val acc: 0.8177333333333333\n",
      "avg test acc: 0.8062666666666667\n",
      "\n",
      "\n",
      "train size is: 80\n",
      "forest\n",
      "accuracy score: 0.811\n",
      "accuracy score: 0.819\n",
      "accuracy score: 0.811\n",
      "avg train acc : 0.9127916425923641\n",
      "avg val acc: 0.8164166666666667\n",
      "avg test acc: 0.8136666666666666\n",
      "\n",
      "\n",
      "      forest\n",
      "20  0.802333\n",
      "50  0.806267\n",
      "80  0.813667\n"
     ]
    }
   ],
   "source": [
    "#'max_features': [1,2,4,6,8,12] tested\n",
    "# adult\n",
    "\n",
    "partition_size = [0.2, 0.5, 0.8]\n",
    "cols = ['forest']\n",
    "index = [20,50,80]\n",
    "\n",
    "adult_avg_rf= pd.DataFrame(index=index, columns=cols)\n",
    "\n",
    "dataset_list = shuffle(adult) \n",
    "get_results(dataset_list, 14, [forest], partition_size[0], adult_avg_rf)\n",
    "get_results(dataset_list, 14, [forest], partition_size[1], adult_avg_rf)\n",
    "get_results(dataset_list, 14, [forest], partition_size[2], adult_avg_rf)\n",
    "\n",
    "print(adult_avg_rf)"
   ]
  },
  {
   "cell_type": "code",
   "execution_count": 106,
   "metadata": {},
   "outputs": [
    {
     "name": "stdout",
     "output_type": "stream",
     "text": [
      "train size is: 20\n",
      "forest\n",
      "accuracy score: 0.80375\n",
      "accuracy score: 0.80475\n",
      "accuracy score: 0.808\n",
      "avg train acc : 0.9648337263026973\n",
      "avg val acc: 0.8063333333333333\n",
      "avg test acc: 0.8055\n",
      "\n",
      "\n",
      "train size is: 50\n",
      "forest\n",
      "accuracy score: 0.842\n",
      "accuracy score: 0.8276\n",
      "accuracy score: 0.83\n",
      "avg train acc : 0.9485663598999233\n",
      "avg val acc: 0.8349333333333333\n",
      "avg test acc: 0.8332\n",
      "\n",
      "\n",
      "train size is: 80\n",
      "forest\n",
      "accuracy score: 0.864\n",
      "accuracy score: 0.849\n",
      "accuracy score: 0.839\n",
      "avg train acc : 0.9428958912007707\n",
      "avg val acc: 0.84075\n",
      "avg test acc: 0.8506666666666667\n",
      "\n",
      "\n",
      "      forest\n",
      "20    0.8055\n",
      "50    0.8332\n",
      "80  0.850667\n"
     ]
    }
   ],
   "source": [
    "#'max_features': [1,2,4,6,8,12] tested\n",
    "# letter\n",
    "\n",
    "partition_size = [0.2, 0.5, 0.8]\n",
    "cols = ['forest']\n",
    "index = [20,50,80]\n",
    "\n",
    "letter_avg_rf= pd.DataFrame(index=index, columns=cols)\n",
    "\n",
    "dataset_list = shuffle(letter) \n",
    "get_results(dataset_list, 16, [forest], partition_size[0], letter_avg_rf)\n",
    "get_results(dataset_list, 16, [forest], partition_size[1], letter_avg_rf)\n",
    "get_results(dataset_list, 16, [forest], partition_size[2], letter_avg_rf)\n",
    "\n",
    "print(letter_avg_rf)"
   ]
  },
  {
   "cell_type": "code",
   "execution_count": 107,
   "metadata": {},
   "outputs": [],
   "source": [
    "letter_avg['rf'] = letter_avg_rf\n",
    "mush_avg['rf'] = mush_avg_rf\n",
    "adult_avg['rf'] = adult_avg_rf\n",
    "park_avg['rf'] = park_avg_rf"
   ]
  },
  {
   "cell_type": "code",
   "execution_count": 152,
   "metadata": {},
   "outputs": [
    {
     "name": "stdout",
     "output_type": "stream",
     "text": [
      "iris \n",
      "            0         1         2         3         4\n",
      "20  0.933333  0.908333  0.954167  0.920833  0.920833\n",
      "50  0.913333  0.946667  0.953333  0.933333      0.92\n",
      "80  0.933333  0.916667      0.95  0.933333  0.933333\n",
      "adult \n",
      "          knn      tree       svm       log        rf\n",
      "20  0.809167  0.803833  0.804917  0.805667  0.802333\n",
      "50  0.806533  0.806133    0.8012  0.804933  0.806267\n",
      "80     0.811  0.816667  0.809333  0.806333  0.813667\n",
      "letter \n",
      "          knn      tree       svm       log        rf\n",
      "20  0.768917  0.773333  0.712333  0.700667    0.8055\n",
      "50  0.805467  0.800533  0.706133  0.704933    0.8332\n",
      "80  0.817333     0.822  0.717333  0.705667  0.850667\n",
      "mush \n",
      "          knn      tree       svm       log        rf\n",
      "20  0.996083  0.999333  0.995917  0.996917  0.999583\n",
      "50  0.998267         1  0.998267  0.998267  0.999733\n",
      "80         1  0.999667     0.999     0.999  0.999667\n",
      "park \n",
      "          knn      tree       svm       log        rf\n",
      "20  0.792735  0.826923  0.807692  0.833333   0.83547\n",
      "50  0.789116  0.857143  0.840136  0.846939  0.853741\n",
      "80  0.863248  0.880342  0.854701  0.871795  0.820513\n"
     ]
    }
   ],
   "source": [
    "print('iris','\\n',iris_avg)\n",
    "print('adult', '\\n', adult_avg)\n",
    "print('letter', '\\n', letter_avg)\n",
    "print('mush', '\\n', mush_avg)\n",
    "print('park', '\\n', park_avg)"
   ]
  }
 ],
 "metadata": {
  "kernelspec": {
   "display_name": "Python 3",
   "language": "python",
   "name": "python3"
  },
  "language_info": {
   "codemirror_mode": {
    "name": "ipython",
    "version": 3
   },
   "file_extension": ".py",
   "mimetype": "text/x-python",
   "name": "python",
   "nbconvert_exporter": "python",
   "pygments_lexer": "ipython3",
   "version": "3.7.1"
  }
 },
 "nbformat": 4,
 "nbformat_minor": 2
}
